{
  "nbformat": 4,
  "nbformat_minor": 0,
  "metadata": {
    "colab": {
      "name": "fashionMNIST.ipynb",
      "provenance": [],
      "toc_visible": true
    },
    "kernelspec": {
      "name": "python3",
      "display_name": "Python 3"
    },
    "accelerator": "GPU",
    "widgets": {
      "application/vnd.jupyter.widget-state+json": {
        "a45c7fe32bce4e7f9600d230cea51d60": {
          "model_module": "@jupyter-widgets/controls",
          "model_name": "HBoxModel",
          "state": {
            "_view_name": "HBoxView",
            "_dom_classes": [],
            "_model_name": "HBoxModel",
            "_view_module": "@jupyter-widgets/controls",
            "_model_module_version": "1.5.0",
            "_view_count": null,
            "_view_module_version": "1.5.0",
            "box_style": "",
            "layout": "IPY_MODEL_696fa8d6f2a249ebb76c6f11029c69c0",
            "_model_module": "@jupyter-widgets/controls",
            "children": [
              "IPY_MODEL_1836f3bea7ec4f4f9509729e251beebe",
              "IPY_MODEL_5d10ac9b488f496c9a009655121a4380"
            ]
          }
        },
        "696fa8d6f2a249ebb76c6f11029c69c0": {
          "model_module": "@jupyter-widgets/base",
          "model_name": "LayoutModel",
          "state": {
            "_view_name": "LayoutView",
            "grid_template_rows": null,
            "right": null,
            "justify_content": null,
            "_view_module": "@jupyter-widgets/base",
            "overflow": null,
            "_model_module_version": "1.2.0",
            "_view_count": null,
            "flex_flow": null,
            "width": null,
            "min_width": null,
            "border": null,
            "align_items": null,
            "bottom": null,
            "_model_module": "@jupyter-widgets/base",
            "top": null,
            "grid_column": null,
            "overflow_y": null,
            "overflow_x": null,
            "grid_auto_flow": null,
            "grid_area": null,
            "grid_template_columns": null,
            "flex": null,
            "_model_name": "LayoutModel",
            "justify_items": null,
            "grid_row": null,
            "max_height": null,
            "align_content": null,
            "visibility": null,
            "align_self": null,
            "height": null,
            "min_height": null,
            "padding": null,
            "grid_auto_rows": null,
            "grid_gap": null,
            "max_width": null,
            "order": null,
            "_view_module_version": "1.2.0",
            "grid_template_areas": null,
            "object_position": null,
            "object_fit": null,
            "grid_auto_columns": null,
            "margin": null,
            "display": null,
            "left": null
          }
        },
        "1836f3bea7ec4f4f9509729e251beebe": {
          "model_module": "@jupyter-widgets/controls",
          "model_name": "FloatProgressModel",
          "state": {
            "_view_name": "ProgressView",
            "style": "IPY_MODEL_2c9ba2d6a0ea49e38bc55973bdf88b5f",
            "_dom_classes": [],
            "description": "",
            "_model_name": "FloatProgressModel",
            "bar_style": "success",
            "max": 1,
            "_view_module": "@jupyter-widgets/controls",
            "_model_module_version": "1.5.0",
            "value": 1,
            "_view_count": null,
            "_view_module_version": "1.5.0",
            "orientation": "horizontal",
            "min": 0,
            "description_tooltip": null,
            "_model_module": "@jupyter-widgets/controls",
            "layout": "IPY_MODEL_30000e44ac6e44c5abd700e738c8594e"
          }
        },
        "5d10ac9b488f496c9a009655121a4380": {
          "model_module": "@jupyter-widgets/controls",
          "model_name": "HTMLModel",
          "state": {
            "_view_name": "HTMLView",
            "style": "IPY_MODEL_585ebdaa66744197b6ef172c9df05d31",
            "_dom_classes": [],
            "description": "",
            "_model_name": "HTMLModel",
            "placeholder": "​",
            "_view_module": "@jupyter-widgets/controls",
            "_model_module_version": "1.5.0",
            "value": " 26427392/? [00:05&lt;00:00, 5162766.83it/s]",
            "_view_count": null,
            "_view_module_version": "1.5.0",
            "description_tooltip": null,
            "_model_module": "@jupyter-widgets/controls",
            "layout": "IPY_MODEL_db25c902973e4f4abd685c2ef4348a37"
          }
        },
        "2c9ba2d6a0ea49e38bc55973bdf88b5f": {
          "model_module": "@jupyter-widgets/controls",
          "model_name": "ProgressStyleModel",
          "state": {
            "_view_name": "StyleView",
            "_model_name": "ProgressStyleModel",
            "description_width": "initial",
            "_view_module": "@jupyter-widgets/base",
            "_model_module_version": "1.5.0",
            "_view_count": null,
            "_view_module_version": "1.2.0",
            "bar_color": null,
            "_model_module": "@jupyter-widgets/controls"
          }
        },
        "30000e44ac6e44c5abd700e738c8594e": {
          "model_module": "@jupyter-widgets/base",
          "model_name": "LayoutModel",
          "state": {
            "_view_name": "LayoutView",
            "grid_template_rows": null,
            "right": null,
            "justify_content": null,
            "_view_module": "@jupyter-widgets/base",
            "overflow": null,
            "_model_module_version": "1.2.0",
            "_view_count": null,
            "flex_flow": null,
            "width": null,
            "min_width": null,
            "border": null,
            "align_items": null,
            "bottom": null,
            "_model_module": "@jupyter-widgets/base",
            "top": null,
            "grid_column": null,
            "overflow_y": null,
            "overflow_x": null,
            "grid_auto_flow": null,
            "grid_area": null,
            "grid_template_columns": null,
            "flex": null,
            "_model_name": "LayoutModel",
            "justify_items": null,
            "grid_row": null,
            "max_height": null,
            "align_content": null,
            "visibility": null,
            "align_self": null,
            "height": null,
            "min_height": null,
            "padding": null,
            "grid_auto_rows": null,
            "grid_gap": null,
            "max_width": null,
            "order": null,
            "_view_module_version": "1.2.0",
            "grid_template_areas": null,
            "object_position": null,
            "object_fit": null,
            "grid_auto_columns": null,
            "margin": null,
            "display": null,
            "left": null
          }
        },
        "585ebdaa66744197b6ef172c9df05d31": {
          "model_module": "@jupyter-widgets/controls",
          "model_name": "DescriptionStyleModel",
          "state": {
            "_view_name": "StyleView",
            "_model_name": "DescriptionStyleModel",
            "description_width": "",
            "_view_module": "@jupyter-widgets/base",
            "_model_module_version": "1.5.0",
            "_view_count": null,
            "_view_module_version": "1.2.0",
            "_model_module": "@jupyter-widgets/controls"
          }
        },
        "db25c902973e4f4abd685c2ef4348a37": {
          "model_module": "@jupyter-widgets/base",
          "model_name": "LayoutModel",
          "state": {
            "_view_name": "LayoutView",
            "grid_template_rows": null,
            "right": null,
            "justify_content": null,
            "_view_module": "@jupyter-widgets/base",
            "overflow": null,
            "_model_module_version": "1.2.0",
            "_view_count": null,
            "flex_flow": null,
            "width": null,
            "min_width": null,
            "border": null,
            "align_items": null,
            "bottom": null,
            "_model_module": "@jupyter-widgets/base",
            "top": null,
            "grid_column": null,
            "overflow_y": null,
            "overflow_x": null,
            "grid_auto_flow": null,
            "grid_area": null,
            "grid_template_columns": null,
            "flex": null,
            "_model_name": "LayoutModel",
            "justify_items": null,
            "grid_row": null,
            "max_height": null,
            "align_content": null,
            "visibility": null,
            "align_self": null,
            "height": null,
            "min_height": null,
            "padding": null,
            "grid_auto_rows": null,
            "grid_gap": null,
            "max_width": null,
            "order": null,
            "_view_module_version": "1.2.0",
            "grid_template_areas": null,
            "object_position": null,
            "object_fit": null,
            "grid_auto_columns": null,
            "margin": null,
            "display": null,
            "left": null
          }
        },
        "577b5cd95ee5453895ece860c7551921": {
          "model_module": "@jupyter-widgets/controls",
          "model_name": "HBoxModel",
          "state": {
            "_view_name": "HBoxView",
            "_dom_classes": [],
            "_model_name": "HBoxModel",
            "_view_module": "@jupyter-widgets/controls",
            "_model_module_version": "1.5.0",
            "_view_count": null,
            "_view_module_version": "1.5.0",
            "box_style": "",
            "layout": "IPY_MODEL_f1f7a63d64e8424f91ea016d3774591e",
            "_model_module": "@jupyter-widgets/controls",
            "children": [
              "IPY_MODEL_16d0ea0773c740719d5de438d5a32f6d",
              "IPY_MODEL_0b77ae61422c45edb310bdbb8bb081f0"
            ]
          }
        },
        "f1f7a63d64e8424f91ea016d3774591e": {
          "model_module": "@jupyter-widgets/base",
          "model_name": "LayoutModel",
          "state": {
            "_view_name": "LayoutView",
            "grid_template_rows": null,
            "right": null,
            "justify_content": null,
            "_view_module": "@jupyter-widgets/base",
            "overflow": null,
            "_model_module_version": "1.2.0",
            "_view_count": null,
            "flex_flow": null,
            "width": null,
            "min_width": null,
            "border": null,
            "align_items": null,
            "bottom": null,
            "_model_module": "@jupyter-widgets/base",
            "top": null,
            "grid_column": null,
            "overflow_y": null,
            "overflow_x": null,
            "grid_auto_flow": null,
            "grid_area": null,
            "grid_template_columns": null,
            "flex": null,
            "_model_name": "LayoutModel",
            "justify_items": null,
            "grid_row": null,
            "max_height": null,
            "align_content": null,
            "visibility": null,
            "align_self": null,
            "height": null,
            "min_height": null,
            "padding": null,
            "grid_auto_rows": null,
            "grid_gap": null,
            "max_width": null,
            "order": null,
            "_view_module_version": "1.2.0",
            "grid_template_areas": null,
            "object_position": null,
            "object_fit": null,
            "grid_auto_columns": null,
            "margin": null,
            "display": null,
            "left": null
          }
        },
        "16d0ea0773c740719d5de438d5a32f6d": {
          "model_module": "@jupyter-widgets/controls",
          "model_name": "FloatProgressModel",
          "state": {
            "_view_name": "ProgressView",
            "style": "IPY_MODEL_1444f71753c4465c8fed31a8cb4178b2",
            "_dom_classes": [],
            "description": "",
            "_model_name": "FloatProgressModel",
            "bar_style": "success",
            "max": 1,
            "_view_module": "@jupyter-widgets/controls",
            "_model_module_version": "1.5.0",
            "value": 1,
            "_view_count": null,
            "_view_module_version": "1.5.0",
            "orientation": "horizontal",
            "min": 0,
            "description_tooltip": null,
            "_model_module": "@jupyter-widgets/controls",
            "layout": "IPY_MODEL_a6938166d0454d179834bfcbee2e3c96"
          }
        },
        "0b77ae61422c45edb310bdbb8bb081f0": {
          "model_module": "@jupyter-widgets/controls",
          "model_name": "HTMLModel",
          "state": {
            "_view_name": "HTMLView",
            "style": "IPY_MODEL_2350aa85d5b14b48b159fff795d83147",
            "_dom_classes": [],
            "description": "",
            "_model_name": "HTMLModel",
            "placeholder": "​",
            "_view_module": "@jupyter-widgets/controls",
            "_model_module_version": "1.5.0",
            "value": " 32768/? [00:00&lt;00:00, 78047.30it/s]",
            "_view_count": null,
            "_view_module_version": "1.5.0",
            "description_tooltip": null,
            "_model_module": "@jupyter-widgets/controls",
            "layout": "IPY_MODEL_34dabf03a8854c67b0395b5a12a5b0c7"
          }
        },
        "1444f71753c4465c8fed31a8cb4178b2": {
          "model_module": "@jupyter-widgets/controls",
          "model_name": "ProgressStyleModel",
          "state": {
            "_view_name": "StyleView",
            "_model_name": "ProgressStyleModel",
            "description_width": "initial",
            "_view_module": "@jupyter-widgets/base",
            "_model_module_version": "1.5.0",
            "_view_count": null,
            "_view_module_version": "1.2.0",
            "bar_color": null,
            "_model_module": "@jupyter-widgets/controls"
          }
        },
        "a6938166d0454d179834bfcbee2e3c96": {
          "model_module": "@jupyter-widgets/base",
          "model_name": "LayoutModel",
          "state": {
            "_view_name": "LayoutView",
            "grid_template_rows": null,
            "right": null,
            "justify_content": null,
            "_view_module": "@jupyter-widgets/base",
            "overflow": null,
            "_model_module_version": "1.2.0",
            "_view_count": null,
            "flex_flow": null,
            "width": null,
            "min_width": null,
            "border": null,
            "align_items": null,
            "bottom": null,
            "_model_module": "@jupyter-widgets/base",
            "top": null,
            "grid_column": null,
            "overflow_y": null,
            "overflow_x": null,
            "grid_auto_flow": null,
            "grid_area": null,
            "grid_template_columns": null,
            "flex": null,
            "_model_name": "LayoutModel",
            "justify_items": null,
            "grid_row": null,
            "max_height": null,
            "align_content": null,
            "visibility": null,
            "align_self": null,
            "height": null,
            "min_height": null,
            "padding": null,
            "grid_auto_rows": null,
            "grid_gap": null,
            "max_width": null,
            "order": null,
            "_view_module_version": "1.2.0",
            "grid_template_areas": null,
            "object_position": null,
            "object_fit": null,
            "grid_auto_columns": null,
            "margin": null,
            "display": null,
            "left": null
          }
        },
        "2350aa85d5b14b48b159fff795d83147": {
          "model_module": "@jupyter-widgets/controls",
          "model_name": "DescriptionStyleModel",
          "state": {
            "_view_name": "StyleView",
            "_model_name": "DescriptionStyleModel",
            "description_width": "",
            "_view_module": "@jupyter-widgets/base",
            "_model_module_version": "1.5.0",
            "_view_count": null,
            "_view_module_version": "1.2.0",
            "_model_module": "@jupyter-widgets/controls"
          }
        },
        "34dabf03a8854c67b0395b5a12a5b0c7": {
          "model_module": "@jupyter-widgets/base",
          "model_name": "LayoutModel",
          "state": {
            "_view_name": "LayoutView",
            "grid_template_rows": null,
            "right": null,
            "justify_content": null,
            "_view_module": "@jupyter-widgets/base",
            "overflow": null,
            "_model_module_version": "1.2.0",
            "_view_count": null,
            "flex_flow": null,
            "width": null,
            "min_width": null,
            "border": null,
            "align_items": null,
            "bottom": null,
            "_model_module": "@jupyter-widgets/base",
            "top": null,
            "grid_column": null,
            "overflow_y": null,
            "overflow_x": null,
            "grid_auto_flow": null,
            "grid_area": null,
            "grid_template_columns": null,
            "flex": null,
            "_model_name": "LayoutModel",
            "justify_items": null,
            "grid_row": null,
            "max_height": null,
            "align_content": null,
            "visibility": null,
            "align_self": null,
            "height": null,
            "min_height": null,
            "padding": null,
            "grid_auto_rows": null,
            "grid_gap": null,
            "max_width": null,
            "order": null,
            "_view_module_version": "1.2.0",
            "grid_template_areas": null,
            "object_position": null,
            "object_fit": null,
            "grid_auto_columns": null,
            "margin": null,
            "display": null,
            "left": null
          }
        },
        "18d2529cd04a4b59a2f46d44e9dc8f3e": {
          "model_module": "@jupyter-widgets/controls",
          "model_name": "HBoxModel",
          "state": {
            "_view_name": "HBoxView",
            "_dom_classes": [],
            "_model_name": "HBoxModel",
            "_view_module": "@jupyter-widgets/controls",
            "_model_module_version": "1.5.0",
            "_view_count": null,
            "_view_module_version": "1.5.0",
            "box_style": "",
            "layout": "IPY_MODEL_b1adf40886f548e9a24ca8350645cfcd",
            "_model_module": "@jupyter-widgets/controls",
            "children": [
              "IPY_MODEL_5976f9da3950443c95fe49bd34a110da",
              "IPY_MODEL_85fd5e292db1495d85e01133e00e5cdd"
            ]
          }
        },
        "b1adf40886f548e9a24ca8350645cfcd": {
          "model_module": "@jupyter-widgets/base",
          "model_name": "LayoutModel",
          "state": {
            "_view_name": "LayoutView",
            "grid_template_rows": null,
            "right": null,
            "justify_content": null,
            "_view_module": "@jupyter-widgets/base",
            "overflow": null,
            "_model_module_version": "1.2.0",
            "_view_count": null,
            "flex_flow": null,
            "width": null,
            "min_width": null,
            "border": null,
            "align_items": null,
            "bottom": null,
            "_model_module": "@jupyter-widgets/base",
            "top": null,
            "grid_column": null,
            "overflow_y": null,
            "overflow_x": null,
            "grid_auto_flow": null,
            "grid_area": null,
            "grid_template_columns": null,
            "flex": null,
            "_model_name": "LayoutModel",
            "justify_items": null,
            "grid_row": null,
            "max_height": null,
            "align_content": null,
            "visibility": null,
            "align_self": null,
            "height": null,
            "min_height": null,
            "padding": null,
            "grid_auto_rows": null,
            "grid_gap": null,
            "max_width": null,
            "order": null,
            "_view_module_version": "1.2.0",
            "grid_template_areas": null,
            "object_position": null,
            "object_fit": null,
            "grid_auto_columns": null,
            "margin": null,
            "display": null,
            "left": null
          }
        },
        "5976f9da3950443c95fe49bd34a110da": {
          "model_module": "@jupyter-widgets/controls",
          "model_name": "FloatProgressModel",
          "state": {
            "_view_name": "ProgressView",
            "style": "IPY_MODEL_3228fcda0ee046e4a215de854f319cf3",
            "_dom_classes": [],
            "description": "",
            "_model_name": "FloatProgressModel",
            "bar_style": "success",
            "max": 1,
            "_view_module": "@jupyter-widgets/controls",
            "_model_module_version": "1.5.0",
            "value": 1,
            "_view_count": null,
            "_view_module_version": "1.5.0",
            "orientation": "horizontal",
            "min": 0,
            "description_tooltip": null,
            "_model_module": "@jupyter-widgets/controls",
            "layout": "IPY_MODEL_1877073f89e34d7cbfe929134542c002"
          }
        },
        "85fd5e292db1495d85e01133e00e5cdd": {
          "model_module": "@jupyter-widgets/controls",
          "model_name": "HTMLModel",
          "state": {
            "_view_name": "HTMLView",
            "style": "IPY_MODEL_abcd0dd5d7ae44e6b994464d6b4534fc",
            "_dom_classes": [],
            "description": "",
            "_model_name": "HTMLModel",
            "placeholder": "​",
            "_view_module": "@jupyter-widgets/controls",
            "_model_module_version": "1.5.0",
            "value": " 4423680/? [00:02&lt;00:00, 2079773.54it/s]",
            "_view_count": null,
            "_view_module_version": "1.5.0",
            "description_tooltip": null,
            "_model_module": "@jupyter-widgets/controls",
            "layout": "IPY_MODEL_31b640bcc9b849b5b89dce32aafee44f"
          }
        },
        "3228fcda0ee046e4a215de854f319cf3": {
          "model_module": "@jupyter-widgets/controls",
          "model_name": "ProgressStyleModel",
          "state": {
            "_view_name": "StyleView",
            "_model_name": "ProgressStyleModel",
            "description_width": "initial",
            "_view_module": "@jupyter-widgets/base",
            "_model_module_version": "1.5.0",
            "_view_count": null,
            "_view_module_version": "1.2.0",
            "bar_color": null,
            "_model_module": "@jupyter-widgets/controls"
          }
        },
        "1877073f89e34d7cbfe929134542c002": {
          "model_module": "@jupyter-widgets/base",
          "model_name": "LayoutModel",
          "state": {
            "_view_name": "LayoutView",
            "grid_template_rows": null,
            "right": null,
            "justify_content": null,
            "_view_module": "@jupyter-widgets/base",
            "overflow": null,
            "_model_module_version": "1.2.0",
            "_view_count": null,
            "flex_flow": null,
            "width": null,
            "min_width": null,
            "border": null,
            "align_items": null,
            "bottom": null,
            "_model_module": "@jupyter-widgets/base",
            "top": null,
            "grid_column": null,
            "overflow_y": null,
            "overflow_x": null,
            "grid_auto_flow": null,
            "grid_area": null,
            "grid_template_columns": null,
            "flex": null,
            "_model_name": "LayoutModel",
            "justify_items": null,
            "grid_row": null,
            "max_height": null,
            "align_content": null,
            "visibility": null,
            "align_self": null,
            "height": null,
            "min_height": null,
            "padding": null,
            "grid_auto_rows": null,
            "grid_gap": null,
            "max_width": null,
            "order": null,
            "_view_module_version": "1.2.0",
            "grid_template_areas": null,
            "object_position": null,
            "object_fit": null,
            "grid_auto_columns": null,
            "margin": null,
            "display": null,
            "left": null
          }
        },
        "abcd0dd5d7ae44e6b994464d6b4534fc": {
          "model_module": "@jupyter-widgets/controls",
          "model_name": "DescriptionStyleModel",
          "state": {
            "_view_name": "StyleView",
            "_model_name": "DescriptionStyleModel",
            "description_width": "",
            "_view_module": "@jupyter-widgets/base",
            "_model_module_version": "1.5.0",
            "_view_count": null,
            "_view_module_version": "1.2.0",
            "_model_module": "@jupyter-widgets/controls"
          }
        },
        "31b640bcc9b849b5b89dce32aafee44f": {
          "model_module": "@jupyter-widgets/base",
          "model_name": "LayoutModel",
          "state": {
            "_view_name": "LayoutView",
            "grid_template_rows": null,
            "right": null,
            "justify_content": null,
            "_view_module": "@jupyter-widgets/base",
            "overflow": null,
            "_model_module_version": "1.2.0",
            "_view_count": null,
            "flex_flow": null,
            "width": null,
            "min_width": null,
            "border": null,
            "align_items": null,
            "bottom": null,
            "_model_module": "@jupyter-widgets/base",
            "top": null,
            "grid_column": null,
            "overflow_y": null,
            "overflow_x": null,
            "grid_auto_flow": null,
            "grid_area": null,
            "grid_template_columns": null,
            "flex": null,
            "_model_name": "LayoutModel",
            "justify_items": null,
            "grid_row": null,
            "max_height": null,
            "align_content": null,
            "visibility": null,
            "align_self": null,
            "height": null,
            "min_height": null,
            "padding": null,
            "grid_auto_rows": null,
            "grid_gap": null,
            "max_width": null,
            "order": null,
            "_view_module_version": "1.2.0",
            "grid_template_areas": null,
            "object_position": null,
            "object_fit": null,
            "grid_auto_columns": null,
            "margin": null,
            "display": null,
            "left": null
          }
        },
        "cc48403463d94db48c0392b3b359f3c9": {
          "model_module": "@jupyter-widgets/controls",
          "model_name": "HBoxModel",
          "state": {
            "_view_name": "HBoxView",
            "_dom_classes": [],
            "_model_name": "HBoxModel",
            "_view_module": "@jupyter-widgets/controls",
            "_model_module_version": "1.5.0",
            "_view_count": null,
            "_view_module_version": "1.5.0",
            "box_style": "",
            "layout": "IPY_MODEL_9b63ff00703a4120b5461b934f055dbc",
            "_model_module": "@jupyter-widgets/controls",
            "children": [
              "IPY_MODEL_8f205d65ee324b38910377457b073681",
              "IPY_MODEL_30d171427fe942fc9a16e50c57c91d90"
            ]
          }
        },
        "9b63ff00703a4120b5461b934f055dbc": {
          "model_module": "@jupyter-widgets/base",
          "model_name": "LayoutModel",
          "state": {
            "_view_name": "LayoutView",
            "grid_template_rows": null,
            "right": null,
            "justify_content": null,
            "_view_module": "@jupyter-widgets/base",
            "overflow": null,
            "_model_module_version": "1.2.0",
            "_view_count": null,
            "flex_flow": null,
            "width": null,
            "min_width": null,
            "border": null,
            "align_items": null,
            "bottom": null,
            "_model_module": "@jupyter-widgets/base",
            "top": null,
            "grid_column": null,
            "overflow_y": null,
            "overflow_x": null,
            "grid_auto_flow": null,
            "grid_area": null,
            "grid_template_columns": null,
            "flex": null,
            "_model_name": "LayoutModel",
            "justify_items": null,
            "grid_row": null,
            "max_height": null,
            "align_content": null,
            "visibility": null,
            "align_self": null,
            "height": null,
            "min_height": null,
            "padding": null,
            "grid_auto_rows": null,
            "grid_gap": null,
            "max_width": null,
            "order": null,
            "_view_module_version": "1.2.0",
            "grid_template_areas": null,
            "object_position": null,
            "object_fit": null,
            "grid_auto_columns": null,
            "margin": null,
            "display": null,
            "left": null
          }
        },
        "8f205d65ee324b38910377457b073681": {
          "model_module": "@jupyter-widgets/controls",
          "model_name": "FloatProgressModel",
          "state": {
            "_view_name": "ProgressView",
            "style": "IPY_MODEL_8e63197765124a1e8fb5490329361333",
            "_dom_classes": [],
            "description": "",
            "_model_name": "FloatProgressModel",
            "bar_style": "success",
            "max": 1,
            "_view_module": "@jupyter-widgets/controls",
            "_model_module_version": "1.5.0",
            "value": 1,
            "_view_count": null,
            "_view_module_version": "1.5.0",
            "orientation": "horizontal",
            "min": 0,
            "description_tooltip": null,
            "_model_module": "@jupyter-widgets/controls",
            "layout": "IPY_MODEL_d8555c499f3f45119002c1c35390b278"
          }
        },
        "30d171427fe942fc9a16e50c57c91d90": {
          "model_module": "@jupyter-widgets/controls",
          "model_name": "HTMLModel",
          "state": {
            "_view_name": "HTMLView",
            "style": "IPY_MODEL_9af61b0878f241d59a8a6840f9dc2f01",
            "_dom_classes": [],
            "description": "",
            "_model_name": "HTMLModel",
            "placeholder": "​",
            "_view_module": "@jupyter-widgets/controls",
            "_model_module_version": "1.5.0",
            "value": " 8192/? [00:00&lt;00:00, 10706.72it/s]",
            "_view_count": null,
            "_view_module_version": "1.5.0",
            "description_tooltip": null,
            "_model_module": "@jupyter-widgets/controls",
            "layout": "IPY_MODEL_31d8e096c0d648e186d6263fef24f1d2"
          }
        },
        "8e63197765124a1e8fb5490329361333": {
          "model_module": "@jupyter-widgets/controls",
          "model_name": "ProgressStyleModel",
          "state": {
            "_view_name": "StyleView",
            "_model_name": "ProgressStyleModel",
            "description_width": "initial",
            "_view_module": "@jupyter-widgets/base",
            "_model_module_version": "1.5.0",
            "_view_count": null,
            "_view_module_version": "1.2.0",
            "bar_color": null,
            "_model_module": "@jupyter-widgets/controls"
          }
        },
        "d8555c499f3f45119002c1c35390b278": {
          "model_module": "@jupyter-widgets/base",
          "model_name": "LayoutModel",
          "state": {
            "_view_name": "LayoutView",
            "grid_template_rows": null,
            "right": null,
            "justify_content": null,
            "_view_module": "@jupyter-widgets/base",
            "overflow": null,
            "_model_module_version": "1.2.0",
            "_view_count": null,
            "flex_flow": null,
            "width": null,
            "min_width": null,
            "border": null,
            "align_items": null,
            "bottom": null,
            "_model_module": "@jupyter-widgets/base",
            "top": null,
            "grid_column": null,
            "overflow_y": null,
            "overflow_x": null,
            "grid_auto_flow": null,
            "grid_area": null,
            "grid_template_columns": null,
            "flex": null,
            "_model_name": "LayoutModel",
            "justify_items": null,
            "grid_row": null,
            "max_height": null,
            "align_content": null,
            "visibility": null,
            "align_self": null,
            "height": null,
            "min_height": null,
            "padding": null,
            "grid_auto_rows": null,
            "grid_gap": null,
            "max_width": null,
            "order": null,
            "_view_module_version": "1.2.0",
            "grid_template_areas": null,
            "object_position": null,
            "object_fit": null,
            "grid_auto_columns": null,
            "margin": null,
            "display": null,
            "left": null
          }
        },
        "9af61b0878f241d59a8a6840f9dc2f01": {
          "model_module": "@jupyter-widgets/controls",
          "model_name": "DescriptionStyleModel",
          "state": {
            "_view_name": "StyleView",
            "_model_name": "DescriptionStyleModel",
            "description_width": "",
            "_view_module": "@jupyter-widgets/base",
            "_model_module_version": "1.5.0",
            "_view_count": null,
            "_view_module_version": "1.2.0",
            "_model_module": "@jupyter-widgets/controls"
          }
        },
        "31d8e096c0d648e186d6263fef24f1d2": {
          "model_module": "@jupyter-widgets/base",
          "model_name": "LayoutModel",
          "state": {
            "_view_name": "LayoutView",
            "grid_template_rows": null,
            "right": null,
            "justify_content": null,
            "_view_module": "@jupyter-widgets/base",
            "overflow": null,
            "_model_module_version": "1.2.0",
            "_view_count": null,
            "flex_flow": null,
            "width": null,
            "min_width": null,
            "border": null,
            "align_items": null,
            "bottom": null,
            "_model_module": "@jupyter-widgets/base",
            "top": null,
            "grid_column": null,
            "overflow_y": null,
            "overflow_x": null,
            "grid_auto_flow": null,
            "grid_area": null,
            "grid_template_columns": null,
            "flex": null,
            "_model_name": "LayoutModel",
            "justify_items": null,
            "grid_row": null,
            "max_height": null,
            "align_content": null,
            "visibility": null,
            "align_self": null,
            "height": null,
            "min_height": null,
            "padding": null,
            "grid_auto_rows": null,
            "grid_gap": null,
            "max_width": null,
            "order": null,
            "_view_module_version": "1.2.0",
            "grid_template_areas": null,
            "object_position": null,
            "object_fit": null,
            "grid_auto_columns": null,
            "margin": null,
            "display": null,
            "left": null
          }
        }
      }
    }
  },
  "cells": [
    {
      "cell_type": "markdown",
      "metadata": {
        "id": "YstdLXWhdBwQ",
        "colab_type": "text"
      },
      "source": [
        "# **Fashion MNIST Classification**\n",
        "A FCNN (Fully Connected Neural Network) and CNN (Convolutional Nerual Network) have been modeled"
      ]
    },
    {
      "cell_type": "markdown",
      "metadata": {
        "id": "rriMcMQ7eYTM",
        "colab_type": "text"
      },
      "source": [
        "## Import required packages"
      ]
    },
    {
      "cell_type": "code",
      "metadata": {
        "id": "bTNqUfeBHAAU",
        "colab_type": "code",
        "colab": {}
      },
      "source": [
        "import torch \n",
        "from torchvision import transforms,datasets\n",
        "import torch.nn as nn \n",
        "import torch.nn.functional as F\n",
        "from torch.utils.data import SubsetRandomSampler\n",
        "import matplotlib.pyplot as plt \n",
        "import numpy as np \n"
      ],
      "execution_count": 1,
      "outputs": []
    },
    {
      "cell_type": "markdown",
      "metadata": {
        "id": "4UY2JoHzdHGJ",
        "colab_type": "text"
      },
      "source": [
        "## Defining our Transforms"
      ]
    },
    {
      "cell_type": "code",
      "metadata": {
        "id": "a-seSsd7L3tx",
        "colab_type": "code",
        "colab": {}
      },
      "source": [
        "transform=transforms.Compose([transforms.ToTensor()])\n",
        "# To get the Normalization values do the follwing after downloading train data\n",
        "# print(train_data.data.float().mean()/255)\n",
        "# print(train_data.data.float().std()/255)"
      ],
      "execution_count": 2,
      "outputs": []
    },
    {
      "cell_type": "markdown",
      "metadata": {
        "id": "skQqPICKdWp7",
        "colab_type": "text"
      },
      "source": [
        "## Gathering the train and test data"
      ]
    },
    {
      "cell_type": "code",
      "metadata": {
        "id": "iJCf_quSMBTR",
        "colab_type": "code",
        "colab": {
          "base_uri": "https://localhost:8080/",
          "height": 386,
          "referenced_widgets": [
            "a45c7fe32bce4e7f9600d230cea51d60",
            "696fa8d6f2a249ebb76c6f11029c69c0",
            "1836f3bea7ec4f4f9509729e251beebe",
            "5d10ac9b488f496c9a009655121a4380",
            "2c9ba2d6a0ea49e38bc55973bdf88b5f",
            "30000e44ac6e44c5abd700e738c8594e",
            "585ebdaa66744197b6ef172c9df05d31",
            "db25c902973e4f4abd685c2ef4348a37",
            "577b5cd95ee5453895ece860c7551921",
            "f1f7a63d64e8424f91ea016d3774591e",
            "16d0ea0773c740719d5de438d5a32f6d",
            "0b77ae61422c45edb310bdbb8bb081f0",
            "1444f71753c4465c8fed31a8cb4178b2",
            "a6938166d0454d179834bfcbee2e3c96",
            "2350aa85d5b14b48b159fff795d83147",
            "34dabf03a8854c67b0395b5a12a5b0c7",
            "18d2529cd04a4b59a2f46d44e9dc8f3e",
            "b1adf40886f548e9a24ca8350645cfcd",
            "5976f9da3950443c95fe49bd34a110da",
            "85fd5e292db1495d85e01133e00e5cdd",
            "3228fcda0ee046e4a215de854f319cf3",
            "1877073f89e34d7cbfe929134542c002",
            "abcd0dd5d7ae44e6b994464d6b4534fc",
            "31b640bcc9b849b5b89dce32aafee44f",
            "cc48403463d94db48c0392b3b359f3c9",
            "9b63ff00703a4120b5461b934f055dbc",
            "8f205d65ee324b38910377457b073681",
            "30d171427fe942fc9a16e50c57c91d90",
            "8e63197765124a1e8fb5490329361333",
            "d8555c499f3f45119002c1c35390b278",
            "9af61b0878f241d59a8a6840f9dc2f01",
            "31d8e096c0d648e186d6263fef24f1d2"
          ]
        },
        "outputId": "62ead9a5-5498-47bc-da67-463c55bfd193"
      },
      "source": [
        "train_data=datasets.FashionMNIST('data',train=True,download=True,transform=transform)\n",
        "test_data=datasets.FashionMNIST('data',train=False,download=True,transform=transform)"
      ],
      "execution_count": 3,
      "outputs": [
        {
          "output_type": "stream",
          "text": [
            "Downloading http://fashion-mnist.s3-website.eu-central-1.amazonaws.com/train-images-idx3-ubyte.gz to data/FashionMNIST/raw/train-images-idx3-ubyte.gz\n"
          ],
          "name": "stdout"
        },
        {
          "output_type": "display_data",
          "data": {
            "application/vnd.jupyter.widget-view+json": {
              "model_id": "a45c7fe32bce4e7f9600d230cea51d60",
              "version_minor": 0,
              "version_major": 2
            },
            "text/plain": [
              "HBox(children=(FloatProgress(value=1.0, bar_style='info', max=1.0), HTML(value='')))"
            ]
          },
          "metadata": {
            "tags": []
          }
        },
        {
          "output_type": "stream",
          "text": [
            "Extracting data/FashionMNIST/raw/train-images-idx3-ubyte.gz to data/FashionMNIST/raw\n",
            "Downloading http://fashion-mnist.s3-website.eu-central-1.amazonaws.com/train-labels-idx1-ubyte.gz to data/FashionMNIST/raw/train-labels-idx1-ubyte.gz\n"
          ],
          "name": "stdout"
        },
        {
          "output_type": "display_data",
          "data": {
            "application/vnd.jupyter.widget-view+json": {
              "model_id": "577b5cd95ee5453895ece860c7551921",
              "version_minor": 0,
              "version_major": 2
            },
            "text/plain": [
              "HBox(children=(FloatProgress(value=1.0, bar_style='info', max=1.0), HTML(value='')))"
            ]
          },
          "metadata": {
            "tags": []
          }
        },
        {
          "output_type": "stream",
          "text": [
            "Extracting data/FashionMNIST/raw/train-labels-idx1-ubyte.gz to data/FashionMNIST/raw\n",
            "Downloading http://fashion-mnist.s3-website.eu-central-1.amazonaws.com/t10k-images-idx3-ubyte.gz to data/FashionMNIST/raw/t10k-images-idx3-ubyte.gz\n",
            "\n"
          ],
          "name": "stdout"
        },
        {
          "output_type": "display_data",
          "data": {
            "application/vnd.jupyter.widget-view+json": {
              "model_id": "18d2529cd04a4b59a2f46d44e9dc8f3e",
              "version_minor": 0,
              "version_major": 2
            },
            "text/plain": [
              "HBox(children=(FloatProgress(value=1.0, bar_style='info', max=1.0), HTML(value='')))"
            ]
          },
          "metadata": {
            "tags": []
          }
        },
        {
          "output_type": "stream",
          "text": [
            "Extracting data/FashionMNIST/raw/t10k-images-idx3-ubyte.gz to data/FashionMNIST/raw\n",
            "Downloading http://fashion-mnist.s3-website.eu-central-1.amazonaws.com/t10k-labels-idx1-ubyte.gz to data/FashionMNIST/raw/t10k-labels-idx1-ubyte.gz\n"
          ],
          "name": "stdout"
        },
        {
          "output_type": "display_data",
          "data": {
            "application/vnd.jupyter.widget-view+json": {
              "model_id": "cc48403463d94db48c0392b3b359f3c9",
              "version_minor": 0,
              "version_major": 2
            },
            "text/plain": [
              "HBox(children=(FloatProgress(value=1.0, bar_style='info', max=1.0), HTML(value='')))"
            ]
          },
          "metadata": {
            "tags": []
          }
        },
        {
          "output_type": "stream",
          "text": [
            "Extracting data/FashionMNIST/raw/t10k-labels-idx1-ubyte.gz to data/FashionMNIST/raw\n",
            "Processing...\n",
            "Done!\n"
          ],
          "name": "stdout"
        },
        {
          "output_type": "stream",
          "text": [
            "/usr/local/lib/python3.6/dist-packages/torchvision/datasets/mnist.py:469: UserWarning: The given NumPy array is not writeable, and PyTorch does not support non-writeable tensors. This means you can write to the underlying (supposedly non-writeable) NumPy array using the tensor. You may want to copy the array to protect its data or make it writeable before converting it to a tensor. This type of warning will be suppressed for the rest of this program. (Triggered internally at  /pytorch/torch/csrc/utils/tensor_numpy.cpp:141.)\n",
            "  return torch.from_numpy(parsed.astype(m[2], copy=False)).view(*s)\n"
          ],
          "name": "stderr"
        }
      ]
    },
    {
      "cell_type": "markdown",
      "metadata": {
        "id": "0ZWWvwJPdZHd",
        "colab_type": "text"
      },
      "source": [
        "## Defining our Train, Valid and Test Dataloaders"
      ]
    },
    {
      "cell_type": "code",
      "metadata": {
        "id": "z3JtY2-bMBol",
        "colab_type": "code",
        "colab": {
          "base_uri": "https://localhost:8080/",
          "height": 34
        },
        "outputId": "f797fcbe-3d75-416a-b370-5b4bc6b81b96"
      },
      "source": [
        "valid_size=0.2\n",
        "train_length=len(train_data)\n",
        "\n",
        "indices=[i for i in range(train_length)]\n",
        "np.random.shuffle(indices)\n",
        "\n",
        "split=int(np.floor(valid_size*train_length))\n",
        "train_idx=indices[split:]\n",
        "valid_idx=indices[:split]\n",
        "\n",
        "\n",
        "train_sampler=SubsetRandomSampler(train_idx)\n",
        "valid_sampler=SubsetRandomSampler(valid_idx)\n",
        "\n",
        "num_workers=0\n",
        "batch_size=20\n",
        "train_loader=torch.utils.data.DataLoader(train_data,batch_size=batch_size,sampler=train_sampler,num_workers=num_workers)\n",
        "valid_loader=torch.utils.data.DataLoader(train_data,batch_size=batch_size,sampler=train_sampler,num_workers=num_workers)\n",
        "test_loader=torch.utils.data.DataLoader(test_data,batch_size=batch_size,num_workers=num_workers)\n",
        "\n",
        "# This is for debugging\n",
        "print(f\"Training data size : {train_idx.__len__()}, Validation data size : {valid_idx.__len__()}, Test data size : {test_loader.dataset.__len__()}\")"
      ],
      "execution_count": 4,
      "outputs": [
        {
          "output_type": "stream",
          "text": [
            "Training data size : 48000, Validation data size : 12000, Test data size : 10000\n"
          ],
          "name": "stdout"
        }
      ]
    },
    {
      "cell_type": "code",
      "metadata": {
        "id": "ge3AYtQDMHLH",
        "colab_type": "code",
        "colab": {
          "base_uri": "https://localhost:8080/",
          "height": 986
        },
        "outputId": "fc8bb748-2f1f-4850-fbd6-891d5dc0510c"
      },
      "source": [
        "# checking our data\n",
        "dataiter=iter(train_loader)\n",
        "images,labels=dataiter.next()\n",
        "print(images, images.shape, len(images), images[0].shape)\n",
        "print()\n",
        "print(labels,labels.shape,len(labels))"
      ],
      "execution_count": 5,
      "outputs": [
        {
          "output_type": "stream",
          "text": [
            "tensor([[[[0.0000, 0.0000, 0.0000,  ..., 0.0000, 0.0000, 0.0000],\n",
            "          [0.0000, 0.0000, 0.0000,  ..., 0.0000, 0.0000, 0.0000],\n",
            "          [0.0000, 0.0000, 0.0000,  ..., 0.0000, 0.0000, 0.0000],\n",
            "          ...,\n",
            "          [0.0000, 0.0000, 0.0000,  ..., 0.0000, 0.0000, 0.0000],\n",
            "          [0.0000, 0.0000, 0.0000,  ..., 0.0000, 0.0000, 0.0000],\n",
            "          [0.0000, 0.0000, 0.0000,  ..., 0.0000, 0.0000, 0.0000]]],\n",
            "\n",
            "\n",
            "        [[[0.0000, 0.0000, 0.0000,  ..., 0.4157, 0.0000, 0.0000],\n",
            "          [0.0000, 0.0000, 0.0000,  ..., 0.8863, 0.1137, 0.0000],\n",
            "          [0.0000, 0.0000, 0.0000,  ..., 0.8784, 0.0353, 0.0000],\n",
            "          ...,\n",
            "          [0.0000, 0.0000, 0.3137,  ..., 0.7529, 0.0000, 0.0000],\n",
            "          [0.0000, 0.0000, 0.2902,  ..., 0.7451, 0.0000, 0.0000],\n",
            "          [0.0000, 0.0000, 0.0000,  ..., 0.1961, 0.0000, 0.0000]]],\n",
            "\n",
            "\n",
            "        [[[0.0000, 0.0000, 0.0000,  ..., 0.0000, 0.0000, 0.0000],\n",
            "          [0.0000, 0.0000, 0.0000,  ..., 0.0000, 0.0000, 0.0000],\n",
            "          [0.0000, 0.0000, 0.0000,  ..., 0.0000, 0.0000, 0.0000],\n",
            "          ...,\n",
            "          [0.0000, 0.0000, 0.0000,  ..., 0.0000, 0.0000, 0.0000],\n",
            "          [0.0000, 0.0000, 0.0000,  ..., 0.0000, 0.0000, 0.0000],\n",
            "          [0.0000, 0.0000, 0.0000,  ..., 0.0000, 0.0000, 0.0000]]],\n",
            "\n",
            "\n",
            "        ...,\n",
            "\n",
            "\n",
            "        [[[0.0000, 0.0000, 0.0000,  ..., 0.0000, 0.0000, 0.0000],\n",
            "          [0.0000, 0.0000, 0.0000,  ..., 0.0000, 0.0000, 0.0000],\n",
            "          [0.0000, 0.0000, 0.0000,  ..., 0.0000, 0.0000, 0.0000],\n",
            "          ...,\n",
            "          [0.0000, 0.0000, 0.0000,  ..., 0.0000, 0.0000, 0.0000],\n",
            "          [0.0000, 0.0000, 0.0000,  ..., 0.0000, 0.0000, 0.0000],\n",
            "          [0.0000, 0.0000, 0.0000,  ..., 0.0000, 0.0000, 0.0000]]],\n",
            "\n",
            "\n",
            "        [[[0.0000, 0.0000, 0.0000,  ..., 0.0000, 0.0000, 0.0000],\n",
            "          [0.0000, 0.0000, 0.0000,  ..., 0.0000, 0.0000, 0.0000],\n",
            "          [0.0000, 0.0000, 0.0000,  ..., 0.0000, 0.0000, 0.0000],\n",
            "          ...,\n",
            "          [0.0000, 0.0000, 0.6471,  ..., 0.9137, 0.6941, 0.0000],\n",
            "          [0.0000, 0.0000, 0.8275,  ..., 0.1686, 0.0431, 0.0000],\n",
            "          [0.0000, 0.0000, 0.0039,  ..., 0.0000, 0.0000, 0.0000]]],\n",
            "\n",
            "\n",
            "        [[[0.0000, 0.0000, 0.0000,  ..., 0.0000, 0.0000, 0.0000],\n",
            "          [0.0000, 0.0000, 0.0000,  ..., 0.0000, 0.0000, 0.0000],\n",
            "          [0.0000, 0.0000, 0.0000,  ..., 0.0000, 0.0000, 0.0000],\n",
            "          ...,\n",
            "          [0.0000, 0.0000, 0.0000,  ..., 0.0000, 0.0000, 0.0000],\n",
            "          [0.0000, 0.0000, 0.0000,  ..., 0.0000, 0.0000, 0.0000],\n",
            "          [0.0000, 0.0000, 0.0000,  ..., 0.0000, 0.0000, 0.0000]]]]) torch.Size([20, 1, 28, 28]) 20 torch.Size([1, 28, 28])\n",
            "\n",
            "tensor([6, 5, 6, 3, 1, 9, 0, 2, 2, 9, 0, 1, 5, 2, 7, 8, 3, 0, 8, 2]) torch.Size([20]) 20\n"
          ],
          "name": "stdout"
        }
      ]
    },
    {
      "cell_type": "markdown",
      "metadata": {
        "id": "imJWkTzrdd-E",
        "colab_type": "text"
      },
      "source": [
        "## Visualizing a Training batch"
      ]
    },
    {
      "cell_type": "code",
      "metadata": {
        "id": "VyrZDsT-MI66",
        "colab_type": "code",
        "colab": {
          "base_uri": "https://localhost:8080/",
          "height": 486
        },
        "outputId": "952625a5-14b5-4e70-d8ba-384753f463dc"
      },
      "source": [
        "fashion_class={\n",
        "    0:\"T-shirt/top\",\n",
        "    1:\"Trouser\",\n",
        "    2:\"Pullover\",\n",
        "    3:\"Dress\",\n",
        "    4:\"Coat\",\n",
        "    5:\"Sandal\",\n",
        "    6:\"Shirt\",\n",
        "    7:\"Sneaker\",\n",
        "    8:\"Bag\",\n",
        "    9:\"Ankle boot\"\n",
        "}\n",
        "\n",
        "fig=plt.figure(figsize=(30,10))\n",
        "for i in range(len(labels)):\n",
        "    ax=fig.add_subplot(2,10,i+1,xticks=[],yticks=[])\n",
        "    plt.imshow(np.squeeze(images[i]))\n",
        "    ax.set_title(f\"{fashion_class[labels[i].item()]}({labels[i].item()})\")\n",
        "    "
      ],
      "execution_count": 6,
      "outputs": [
        {
          "output_type": "stream",
          "text": [
            "\n",
            "\n",
            "\n"
          ],
          "name": "stdout"
        },
        {
          "output_type": "display_data",
          "data": {
            "image/png": "[encoded data removed]",
            "text/plain": [
              "<Figure size 2160x720 with 20 Axes>"
            ]
          },
          "metadata": {
            "tags": []
          }
        }
      ]
    },
    {
      "cell_type": "markdown",
      "metadata": {
        "id": "ZqMxkmHldha3",
        "colab_type": "text"
      },
      "source": [
        "## Defining our Neural Net Architecture"
      ]
    },
    {
      "cell_type": "code",
      "metadata": {
        "id": "8RG7js8qMMXN",
        "colab_type": "code",
        "colab": {}
      },
      "source": [
        "\n",
        "# Model 1 : This model has dropout set to a certain value\n",
        "# NOTE : When we want to use dropout we ensure we run train() method on our model --- during training , if not required we should use eval() method --- validation and testing\n",
        "class FNet(nn.Module):\n",
        "    def __init__(self):\n",
        "        super(FNet,self).__init__()\n",
        "        self.fc1=nn.Linear(784,512)\n",
        "        self.fc2=nn.Linear(512,256)\n",
        "        self.out=nn.Linear(256,10)\n",
        "        \n",
        "        # Dropout probability - set for avoiding overfitting\n",
        "        self.dropout=nn.Dropout(0.2)\n",
        "\n",
        "    def forward(self,x):\n",
        "        x = x.view(-1, 28 * 28)        \n",
        "        x=self.dropout(torch.sigmoid(self.fc1(x)))\n",
        "        x=self.dropout(torch.sigmoid(self.fc2(x)))\n",
        "        x=self.out(x)\n",
        "        return x\n",
        "\n",
        "class convNet(nn.Module):\n",
        "  def __init__(self):\n",
        "    super(convNet,self).__init__()\n",
        "    self.conv1=nn.Conv2d(in_channels=1,out_channels=16,kernel_size=3,padding=1,stride=1)\n",
        "    self.conv2=nn.Conv2d(in_channels=16,out_channels=32,kernel_size=3,padding=1,stride=1)\n",
        "    self.pool=nn.MaxPool2d(kernel_size=2,stride=2)\n",
        "\n",
        "\n",
        "    self.fc1=nn.Linear(7*7*32,512)\n",
        "    self.fc2=nn.Linear(512,256)\n",
        "    self.out=nn.Linear(256,10)\n",
        "    self.dropout=nn.Dropout(0.2)\n",
        "\n",
        "  def forward(self,x):\n",
        "    x=self.pool(F.relu(self.conv1(x)))\n",
        "    x=self.pool(F.relu(self.conv2(x)))\n",
        "    x=x.view(-1,7*7*32)\n",
        "    x=self.dropout(F.relu(self.fc1(x)))\n",
        "    x=self.dropout(F.relu(self.fc2(x)))\n",
        "    x=self.out(x)\n",
        "    return x\n",
        "    "
      ],
      "execution_count": 7,
      "outputs": []
    },
    {
      "cell_type": "code",
      "metadata": {
        "id": "eUrfExS2MQxv",
        "colab_type": "code",
        "colab": {
          "base_uri": "https://localhost:8080/",
          "height": 391
        },
        "outputId": "bc5d15c9-5e96-45a4-fec6-5fcecaf21b48"
      },
      "source": [
        "model_1=FNet()\n",
        "model_2=convNet()\n",
        "\n",
        "use_cuda=True\n",
        "if use_cuda and torch.cuda.is_available():\n",
        "  model_1.cuda()\n",
        "  model_2.cuda()\n",
        "\n",
        "\n",
        "print(model_1,'\\n\\n\\n\\n',model_2,'\\n\\n\\n\\n','On GPU : ',torch.cuda.is_available())"
      ],
      "execution_count": 8,
      "outputs": [
        {
          "output_type": "stream",
          "text": [
            "FNet(\n",
            "  (fc1): Linear(in_features=784, out_features=512, bias=True)\n",
            "  (fc2): Linear(in_features=512, out_features=256, bias=True)\n",
            "  (out): Linear(in_features=256, out_features=10, bias=True)\n",
            "  (dropout): Dropout(p=0.2, inplace=False)\n",
            ") \n",
            "\n",
            "\n",
            "\n",
            " convNet(\n",
            "  (conv1): Conv2d(1, 16, kernel_size=(3, 3), stride=(1, 1), padding=(1, 1))\n",
            "  (conv2): Conv2d(16, 32, kernel_size=(3, 3), stride=(1, 1), padding=(1, 1))\n",
            "  (pool): MaxPool2d(kernel_size=2, stride=2, padding=0, dilation=1, ceil_mode=False)\n",
            "  (fc1): Linear(in_features=1568, out_features=512, bias=True)\n",
            "  (fc2): Linear(in_features=512, out_features=256, bias=True)\n",
            "  (out): Linear(in_features=256, out_features=10, bias=True)\n",
            "  (dropout): Dropout(p=0.2, inplace=False)\n",
            ") \n",
            "\n",
            "\n",
            "\n",
            " On GPU :  True\n"
          ],
          "name": "stdout"
        }
      ]
    },
    {
      "cell_type": "markdown",
      "metadata": {
        "id": "rZnZJ02fdlSN",
        "colab_type": "text"
      },
      "source": [
        "## Defining our Loss Function"
      ]
    },
    {
      "cell_type": "code",
      "metadata": {
        "id": "CSmdkY1UNEiT",
        "colab_type": "code",
        "colab": {}
      },
      "source": [
        "# Loss Function\n",
        "# If we did not compute softmax at output use nn.CrossentropyLoss() else use nn.NLLLoss()\n",
        "criterion=nn.CrossEntropyLoss()\n"
      ],
      "execution_count": 9,
      "outputs": []
    },
    {
      "cell_type": "markdown",
      "metadata": {
        "id": "THQUtbIldsVB",
        "colab_type": "text"
      },
      "source": [
        "## Training and Validation Phase"
      ]
    },
    {
      "cell_type": "code",
      "metadata": {
        "id": "x08Vt1JrNN0U",
        "colab_type": "code",
        "colab": {}
      },
      "source": [
        "def trainNet(model,lr):\n",
        "    optimizer=torch.optim.Adam(model.parameters(),lr=lr)\n",
        "\n",
        "\n",
        "    # Number of epochs to train for\n",
        "    loss_keeper={'train':[],'valid':[]}\n",
        "    epochs=50\n",
        "\n",
        "    # minimum validation loss ----- set initial minimum to infinity\n",
        "    valid_loss_min = np.Inf \n",
        "\n",
        "    for epoch in range(epochs):\n",
        "        train_loss=0.0\n",
        "        valid_loss=0.0\n",
        "\n",
        "        \"\"\"\n",
        "        TRAINING PHASE\n",
        "        \"\"\"\n",
        "        model.train() # TURN ON DROPOUT for training\n",
        "        for images,labels in train_loader:\n",
        "            if use_cuda and torch.cuda.is_available():\n",
        "                images,labels=images.cuda(),labels.cuda()\n",
        "            optimizer.zero_grad()\n",
        "            output=model(images)\n",
        "            loss=criterion(output,labels)\n",
        "            loss.backward()\n",
        "            optimizer.step()\n",
        "            train_loss+=loss.item()\n",
        "\n",
        "        \"\"\"\n",
        "        VALIDATION PHASE\n",
        "        \"\"\"\n",
        "        model.eval() # TURN OFF DROPOUT for validation\n",
        "        for images,labels in valid_loader:\n",
        "            if use_cuda and torch.cuda.is_available():\n",
        "                images,labels=images.cuda(),labels.cuda()\n",
        "            output=model(images)\n",
        "            loss=criterion(output,labels)\n",
        "            valid_loss+=loss.item()\n",
        "\n",
        "        # Calculating loss over entire batch size for every epoch\n",
        "        train_loss = train_loss/len(train_loader)\n",
        "        valid_loss = valid_loss/len(valid_loader)\n",
        "\n",
        "\n",
        "        # saving loss values\n",
        "        loss_keeper['train'].append(train_loss)\n",
        "        loss_keeper['valid'].append(valid_loss)\n",
        "\n",
        "        print(f\"\\nEpoch : {epoch+1}\\tTraining Loss : {train_loss}\\tValidation Loss : {valid_loss}\")\n",
        "        if valid_loss<=valid_loss_min:\n",
        "            print(f\"Validation loss decreased from : {valid_loss_min} ----> {valid_loss} ----> Saving Model.......\")\n",
        "        z=type(model).__name__\n",
        "        torch.save(model.state_dict(), z+'_model.pth')\n",
        "        valid_loss_min=valid_loss\n",
        "    return(loss_keeper)"
      ],
      "execution_count": 10,
      "outputs": []
    },
    {
      "cell_type": "code",
      "metadata": {
        "id": "Y5zFbps9NmrL",
        "colab_type": "code",
        "colab": {
          "base_uri": "https://localhost:8080/",
          "height": 1000
        },
        "outputId": "e84fb5f4-8887-4830-dc09-28b3d5acece9"
      },
      "source": [
        "m1_loss=trainNet(model_1,0.001)"
      ],
      "execution_count": 11,
      "outputs": [
        {
          "output_type": "stream",
          "text": [
            "\n",
            "Epoch : 1\tTraining Loss : 0.5713734511472285\tValidation Loss : 0.39836739369047186\n",
            "Validation loss decreased from : inf ----> 0.39836739369047186 ----> Saving Model.......\n",
            "\n",
            "Epoch : 2\tTraining Loss : 0.40332381018437446\tValidation Loss : 0.36330949280255787\n",
            "Validation loss decreased from : 0.39836739369047186 ----> 0.36330949280255787 ----> Saving Model.......\n",
            "\n",
            "Epoch : 3\tTraining Loss : 0.36436437474718936\tValidation Loss : 0.31846869574704517\n",
            "Validation loss decreased from : 0.36330949280255787 ----> 0.31846869574704517 ----> Saving Model.......\n",
            "\n",
            "Epoch : 4\tTraining Loss : 0.33832650106865914\tValidation Loss : 0.29416712121494737\n",
            "Validation loss decreased from : 0.31846869574704517 ----> 0.29416712121494737 ----> Saving Model.......\n",
            "\n",
            "Epoch : 5\tTraining Loss : 0.3200391346759473\tValidation Loss : 0.27673846632940696\n",
            "Validation loss decreased from : 0.29416712121494737 ----> 0.27673846632940696 ----> Saving Model.......\n",
            "\n",
            "Epoch : 6\tTraining Loss : 0.3041076678254952\tValidation Loss : 0.26951594607225465\n",
            "Validation loss decreased from : 0.27673846632940696 ----> 0.26951594607225465 ----> Saving Model.......\n",
            "\n",
            "Epoch : 7\tTraining Loss : 0.28935977881075814\tValidation Loss : 0.24930190277518705\n",
            "Validation loss decreased from : 0.26951594607225465 ----> 0.24930190277518705 ----> Saving Model.......\n",
            "\n",
            "Epoch : 8\tTraining Loss : 0.2808982925551633\tValidation Loss : 0.24645824675651964\n",
            "Validation loss decreased from : 0.24930190277518705 ----> 0.24645824675651964 ----> Saving Model.......\n",
            "\n",
            "Epoch : 9\tTraining Loss : 0.26913573533218976\tValidation Loss : 0.25247918597306124\n",
            "\n",
            "Epoch : 10\tTraining Loss : 0.262641812460109\tValidation Loss : 0.22048356884605405\n",
            "Validation loss decreased from : 0.25247918597306124 ----> 0.22048356884605405 ----> Saving Model.......\n",
            "\n",
            "Epoch : 11\tTraining Loss : 0.25483825714773656\tValidation Loss : 0.23329305736736083\n",
            "\n",
            "Epoch : 12\tTraining Loss : 0.24808745863013124\tValidation Loss : 0.20641961856551158\n",
            "Validation loss decreased from : 0.23329305736736083 ----> 0.20641961856551158 ----> Saving Model.......\n",
            "\n",
            "Epoch : 13\tTraining Loss : 0.23923072837331952\tValidation Loss : 0.2069244393632592\n",
            "\n",
            "Epoch : 14\tTraining Loss : 0.2332842793428184\tValidation Loss : 0.2077194910349014\n",
            "\n",
            "Epoch : 15\tTraining Loss : 0.22504698292856726\tValidation Loss : 0.19890906940350153\n",
            "Validation loss decreased from : 0.2077194910349014 ----> 0.19890906940350153 ----> Saving Model.......\n",
            "\n",
            "Epoch : 16\tTraining Loss : 0.22124746695083256\tValidation Loss : 0.18882688531050615\n",
            "Validation loss decreased from : 0.19890906940350153 ----> 0.18882688531050615 ----> Saving Model.......\n",
            "\n",
            "Epoch : 17\tTraining Loss : 0.21666762757173275\tValidation Loss : 0.18278608314887\n",
            "Validation loss decreased from : 0.18882688531050615 ----> 0.18278608314887 ----> Saving Model.......\n",
            "\n",
            "Epoch : 18\tTraining Loss : 0.21231934085391307\tValidation Loss : 0.17427816975008076\n",
            "Validation loss decreased from : 0.18278608314887 ----> 0.17427816975008076 ----> Saving Model.......\n",
            "\n",
            "Epoch : 19\tTraining Loss : 0.20392125022558805\tValidation Loss : 0.16518407384549694\n",
            "Validation loss decreased from : 0.17427816975008076 ----> 0.16518407384549694 ----> Saving Model.......\n",
            "\n",
            "Epoch : 20\tTraining Loss : 0.20072027030784131\tValidation Loss : 0.17880922450271708\n",
            "\n",
            "Epoch : 21\tTraining Loss : 0.19978502060015066\tValidation Loss : 0.1734919822734082\n",
            "Validation loss decreased from : 0.17880922450271708 ----> 0.1734919822734082 ----> Saving Model.......\n",
            "\n",
            "Epoch : 22\tTraining Loss : 0.19451070937066106\tValidation Loss : 0.1687221010370801\n",
            "Validation loss decreased from : 0.1734919822734082 ----> 0.1687221010370801 ----> Saving Model.......\n",
            "\n",
            "Epoch : 23\tTraining Loss : 0.19119697297923266\tValidation Loss : 0.16020390047594749\n",
            "Validation loss decreased from : 0.1687221010370801 ----> 0.16020390047594749 ----> Saving Model.......\n",
            "\n",
            "Epoch : 24\tTraining Loss : 0.18671282243497747\tValidation Loss : 0.153948937067665\n",
            "Validation loss decreased from : 0.16020390047594749 ----> 0.153948937067665 ----> Saving Model.......\n",
            "\n",
            "Epoch : 25\tTraining Loss : 0.17983954221965784\tValidation Loss : 0.14637623258196983\n",
            "Validation loss decreased from : 0.153948937067665 ----> 0.14637623258196983 ----> Saving Model.......\n",
            "\n",
            "Epoch : 26\tTraining Loss : 0.178856961511774\tValidation Loss : 0.14641221402038354\n",
            "\n",
            "Epoch : 27\tTraining Loss : 0.17540550472893907\tValidation Loss : 0.1455828085222553\n",
            "Validation loss decreased from : 0.14641221402038354 ----> 0.1455828085222553 ----> Saving Model.......\n",
            "\n",
            "Epoch : 28\tTraining Loss : 0.17031180475091484\tValidation Loss : 0.13280860607039358\n",
            "Validation loss decreased from : 0.1455828085222553 ----> 0.13280860607039358 ----> Saving Model.......\n",
            "\n",
            "Epoch : 29\tTraining Loss : 0.16688226470053147\tValidation Loss : 0.13419760022658012\n",
            "\n",
            "Epoch : 30\tTraining Loss : 0.16426355763731407\tValidation Loss : 0.1301866245265895\n",
            "Validation loss decreased from : 0.13419760022658012 ----> 0.1301866245265895 ----> Saving Model.......\n",
            "\n",
            "Epoch : 31\tTraining Loss : 0.16064261163963237\tValidation Loss : 0.12758122480612655\n",
            "Validation loss decreased from : 0.1301866245265895 ----> 0.12758122480612655 ----> Saving Model.......\n",
            "\n",
            "Epoch : 32\tTraining Loss : 0.15444671609994354\tValidation Loss : 0.11955503001937662\n",
            "Validation loss decreased from : 0.12758122480612655 ----> 0.11955503001937662 ----> Saving Model.......\n",
            "\n",
            "Epoch : 33\tTraining Loss : 0.15458961716382572\tValidation Loss : 0.12172977828866957\n",
            "\n",
            "Epoch : 34\tTraining Loss : 0.14932586322237815\tValidation Loss : 0.11639309286668625\n",
            "Validation loss decreased from : 0.12172977828866957 ----> 0.11639309286668625 ----> Saving Model.......\n",
            "\n",
            "Epoch : 35\tTraining Loss : 0.14700197621064337\tValidation Loss : 0.10997494171676711\n",
            "Validation loss decreased from : 0.11639309286668625 ----> 0.10997494171676711 ----> Saving Model.......\n",
            "\n",
            "Epoch : 36\tTraining Loss : 0.14696771162663935\tValidation Loss : 0.10727902912801558\n",
            "Validation loss decreased from : 0.10997494171676711 ----> 0.10727902912801558 ----> Saving Model.......\n",
            "\n",
            "Epoch : 37\tTraining Loss : 0.14292669832080718\tValidation Loss : 0.11268084925730364\n",
            "\n",
            "Epoch : 38\tTraining Loss : 0.14000946560307057\tValidation Loss : 0.10819660760952199\n",
            "Validation loss decreased from : 0.11268084925730364 ----> 0.10819660760952199 ----> Saving Model.......\n",
            "\n",
            "Epoch : 39\tTraining Loss : 0.14056989452206228\tValidation Loss : 0.10718066844458614\n",
            "Validation loss decreased from : 0.10819660760952199 ----> 0.10718066844458614 ----> Saving Model.......\n",
            "\n",
            "Epoch : 40\tTraining Loss : 0.13726345007683752\tValidation Loss : 0.10627501183507168\n",
            "Validation loss decreased from : 0.10718066844458614 ----> 0.10627501183507168 ----> Saving Model.......\n",
            "\n",
            "Epoch : 41\tTraining Loss : 0.13359667852322066\tValidation Loss : 0.10472692768969864\n",
            "Validation loss decreased from : 0.10627501183507168 ----> 0.10472692768969864 ----> Saving Model.......\n",
            "\n",
            "Epoch : 42\tTraining Loss : 0.13221521712196893\tValidation Loss : 0.09718942147958538\n",
            "Validation loss decreased from : 0.10472692768969864 ----> 0.09718942147958538 ----> Saving Model.......\n",
            "\n",
            "Epoch : 43\tTraining Loss : 0.13029662246853452\tValidation Loss : 0.09216135048826497\n",
            "Validation loss decreased from : 0.09718942147958538 ----> 0.09216135048826497 ----> Saving Model.......\n",
            "\n",
            "Epoch : 44\tTraining Loss : 0.1275520441723711\tValidation Loss : 0.09803275741349049\n",
            "\n",
            "Epoch : 45\tTraining Loss : 0.12871247229948493\tValidation Loss : 0.0911350971681774\n",
            "Validation loss decreased from : 0.09803275741349049 ----> 0.0911350971681774 ----> Saving Model.......\n",
            "\n",
            "Epoch : 46\tTraining Loss : 0.12171987116974682\tValidation Loss : 0.09073255141235981\n",
            "Validation loss decreased from : 0.0911350971681774 ----> 0.09073255141235981 ----> Saving Model.......\n",
            "\n",
            "Epoch : 47\tTraining Loss : 0.12201760701640524\tValidation Loss : 0.08521425060383384\n",
            "Validation loss decreased from : 0.09073255141235981 ----> 0.08521425060383384 ----> Saving Model.......\n",
            "\n",
            "Epoch : 48\tTraining Loss : 0.1221141494748493\tValidation Loss : 0.0880590255120478\n",
            "\n",
            "Epoch : 49\tTraining Loss : 0.1197209706405253\tValidation Loss : 0.08043464896206085\n",
            "Validation loss decreased from : 0.0880590255120478 ----> 0.08043464896206085 ----> Saving Model.......\n",
            "\n",
            "Epoch : 50\tTraining Loss : 0.11890573378904568\tValidation Loss : 0.08725927435955479\n"
          ],
          "name": "stdout"
        }
      ]
    },
    {
      "cell_type": "code",
      "metadata": {
        "id": "FEpWCSyCNoLV",
        "colab_type": "code",
        "colab": {
          "base_uri": "https://localhost:8080/",
          "height": 1000
        },
        "outputId": "f5e84d63-cf25-4636-a245-81835ab943a4"
      },
      "source": [
        "m1_loss"
      ],
      "execution_count": 12,
      "outputs": [
        {
          "output_type": "execute_result",
          "data": {
            "text/plain": [
              "{'train': [0.5713734511472285,\n",
              "  0.40332381018437446,\n",
              "  0.36436437474718936,\n",
              "  0.33832650106865914,\n",
              "  0.3200391346759473,\n",
              "  0.3041076678254952,\n",
              "  0.28935977881075814,\n",
              "  0.2808982925551633,\n",
              "  0.26913573533218976,\n",
              "  0.262641812460109,\n",
              "  0.25483825714773656,\n",
              "  0.24808745863013124,\n",
              "  0.23923072837331952,\n",
              "  0.2332842793428184,\n",
              "  0.22504698292856726,\n",
              "  0.22124746695083256,\n",
              "  0.21666762757173275,\n",
              "  0.21231934085391307,\n",
              "  0.20392125022558805,\n",
              "  0.20072027030784131,\n",
              "  0.19978502060015066,\n",
              "  0.19451070937066106,\n",
              "  0.19119697297923266,\n",
              "  0.18671282243497747,\n",
              "  0.17983954221965784,\n",
              "  0.178856961511774,\n",
              "  0.17540550472893907,\n",
              "  0.17031180475091484,\n",
              "  0.16688226470053147,\n",
              "  0.16426355763731407,\n",
              "  0.16064261163963237,\n",
              "  0.15444671609994354,\n",
              "  0.15458961716382572,\n",
              "  0.14932586322237815,\n",
              "  0.14700197621064337,\n",
              "  0.14696771162663935,\n",
              "  0.14292669832080718,\n",
              "  0.14000946560307057,\n",
              "  0.14056989452206228,\n",
              "  0.13726345007683752,\n",
              "  0.13359667852322066,\n",
              "  0.13221521712196893,\n",
              "  0.13029662246853452,\n",
              "  0.1275520441723711,\n",
              "  0.12871247229948493,\n",
              "  0.12171987116974682,\n",
              "  0.12201760701640524,\n",
              "  0.1221141494748493,\n",
              "  0.1197209706405253,\n",
              "  0.11890573378904568],\n",
              " 'valid': [0.39836739369047186,\n",
              "  0.36330949280255787,\n",
              "  0.31846869574704517,\n",
              "  0.29416712121494737,\n",
              "  0.27673846632940696,\n",
              "  0.26951594607225465,\n",
              "  0.24930190277518705,\n",
              "  0.24645824675651964,\n",
              "  0.25247918597306124,\n",
              "  0.22048356884605405,\n",
              "  0.23329305736736083,\n",
              "  0.20641961856551158,\n",
              "  0.2069244393632592,\n",
              "  0.2077194910349014,\n",
              "  0.19890906940350153,\n",
              "  0.18882688531050615,\n",
              "  0.18278608314887,\n",
              "  0.17427816975008076,\n",
              "  0.16518407384549694,\n",
              "  0.17880922450271708,\n",
              "  0.1734919822734082,\n",
              "  0.1687221010370801,\n",
              "  0.16020390047594749,\n",
              "  0.153948937067665,\n",
              "  0.14637623258196983,\n",
              "  0.14641221402038354,\n",
              "  0.1455828085222553,\n",
              "  0.13280860607039358,\n",
              "  0.13419760022658012,\n",
              "  0.1301866245265895,\n",
              "  0.12758122480612655,\n",
              "  0.11955503001937662,\n",
              "  0.12172977828866957,\n",
              "  0.11639309286668625,\n",
              "  0.10997494171676711,\n",
              "  0.10727902912801558,\n",
              "  0.11268084925730364,\n",
              "  0.10819660760952199,\n",
              "  0.10718066844458614,\n",
              "  0.10627501183507168,\n",
              "  0.10472692768969864,\n",
              "  0.09718942147958538,\n",
              "  0.09216135048826497,\n",
              "  0.09803275741349049,\n",
              "  0.0911350971681774,\n",
              "  0.09073255141235981,\n",
              "  0.08521425060383384,\n",
              "  0.0880590255120478,\n",
              "  0.08043464896206085,\n",
              "  0.08725927435955479]}"
            ]
          },
          "metadata": {
            "tags": []
          },
          "execution_count": 12
        }
      ]
    },
    {
      "cell_type": "code",
      "metadata": {
        "id": "OJ4WZ-jyNpxc",
        "colab_type": "code",
        "colab": {
          "base_uri": "https://localhost:8080/",
          "height": 1000
        },
        "outputId": "f0bab1c9-8634-4873-ec9b-f28040305f6c"
      },
      "source": [
        "m2_loss=trainNet(model_2,0.001)"
      ],
      "execution_count": 13,
      "outputs": [
        {
          "output_type": "stream",
          "text": [
            "\n",
            "Epoch : 1\tTraining Loss : 0.4822358698444441\tValidation Loss : 0.3270762578072026\n",
            "Validation loss decreased from : inf ----> 0.3270762578072026 ----> Saving Model.......\n",
            "\n",
            "Epoch : 2\tTraining Loss : 0.30753009125978376\tValidation Loss : 0.2518682210989452\n",
            "Validation loss decreased from : 0.3270762578072026 ----> 0.2518682210989452 ----> Saving Model.......\n",
            "\n",
            "Epoch : 3\tTraining Loss : 0.2582530663709622\tValidation Loss : 0.19726231790652188\n",
            "Validation loss decreased from : 0.2518682210989452 ----> 0.19726231790652188 ----> Saving Model.......\n",
            "\n",
            "Epoch : 4\tTraining Loss : 0.2261096736782929\tValidation Loss : 0.18398194442202415\n",
            "Validation loss decreased from : 0.19726231790652188 ----> 0.18398194442202415 ----> Saving Model.......\n",
            "\n",
            "Epoch : 5\tTraining Loss : 0.20094888373219874\tValidation Loss : 0.15688568457146176\n",
            "Validation loss decreased from : 0.18398194442202415 ----> 0.15688568457146176 ----> Saving Model.......\n",
            "\n",
            "Epoch : 6\tTraining Loss : 0.17755166650895263\tValidation Loss : 0.14422466700430958\n",
            "Validation loss decreased from : 0.15688568457146176 ----> 0.14422466700430958 ----> Saving Model.......\n",
            "\n",
            "Epoch : 7\tTraining Loss : 0.15982473263992383\tValidation Loss : 0.12374957365536829\n",
            "Validation loss decreased from : 0.14422466700430958 ----> 0.12374957365536829 ----> Saving Model.......\n",
            "\n",
            "Epoch : 8\tTraining Loss : 0.14243702443178335\tValidation Loss : 0.10624388173387464\n",
            "Validation loss decreased from : 0.12374957365536829 ----> 0.10624388173387464 ----> Saving Model.......\n",
            "\n",
            "Epoch : 9\tTraining Loss : 0.12960414957999697\tValidation Loss : 0.10056136780876841\n",
            "Validation loss decreased from : 0.10624388173387464 ----> 0.10056136780876841 ----> Saving Model.......\n",
            "\n",
            "Epoch : 10\tTraining Loss : 0.11665990345152749\tValidation Loss : 0.08151846999254303\n",
            "Validation loss decreased from : 0.10056136780876841 ----> 0.08151846999254303 ----> Saving Model.......\n",
            "\n",
            "Epoch : 11\tTraining Loss : 0.10507309147713689\tValidation Loss : 0.08235131470321146\n",
            "\n",
            "Epoch : 12\tTraining Loss : 0.09553140321563963\tValidation Loss : 0.060984818291466354\n",
            "Validation loss decreased from : 0.08235131470321146 ----> 0.060984818291466354 ----> Saving Model.......\n",
            "\n",
            "Epoch : 13\tTraining Loss : 0.08683765788042062\tValidation Loss : 0.04659334532310595\n",
            "Validation loss decreased from : 0.060984818291466354 ----> 0.04659334532310595 ----> Saving Model.......\n",
            "\n",
            "Epoch : 14\tTraining Loss : 0.08136152901184611\tValidation Loss : 0.057504714347424886\n",
            "\n",
            "Epoch : 15\tTraining Loss : 0.07834818864479909\tValidation Loss : 0.04374245460698077\n",
            "Validation loss decreased from : 0.057504714347424886 ----> 0.04374245460698077 ----> Saving Model.......\n",
            "\n",
            "Epoch : 16\tTraining Loss : 0.07152384685146633\tValidation Loss : 0.03836928782334098\n",
            "Validation loss decreased from : 0.04374245460698077 ----> 0.03836928782334098 ----> Saving Model.......\n",
            "\n",
            "Epoch : 17\tTraining Loss : 0.06471348146829556\tValidation Loss : 0.03859894345122181\n",
            "\n",
            "Epoch : 18\tTraining Loss : 0.06542937912698023\tValidation Loss : 0.03630804578280756\n",
            "Validation loss decreased from : 0.03859894345122181 ----> 0.03630804578280756 ----> Saving Model.......\n",
            "\n",
            "Epoch : 19\tTraining Loss : 0.06145707659231023\tValidation Loss : 0.03510884037642474\n",
            "Validation loss decreased from : 0.03630804578280756 ----> 0.03510884037642474 ----> Saving Model.......\n",
            "\n",
            "Epoch : 20\tTraining Loss : 0.05575448910903271\tValidation Loss : 0.03480454712748478\n",
            "Validation loss decreased from : 0.03510884037642474 ----> 0.03480454712748478 ----> Saving Model.......\n",
            "\n",
            "Epoch : 21\tTraining Loss : 0.056222481315686516\tValidation Loss : 0.03158955711578287\n",
            "Validation loss decreased from : 0.03480454712748478 ----> 0.03158955711578287 ----> Saving Model.......\n",
            "\n",
            "Epoch : 22\tTraining Loss : 0.05383445834673773\tValidation Loss : 0.042373706783845604\n",
            "\n",
            "Epoch : 23\tTraining Loss : 0.05186387716626994\tValidation Loss : 0.027259712170831136\n",
            "Validation loss decreased from : 0.042373706783845604 ----> 0.027259712170831136 ----> Saving Model.......\n",
            "\n",
            "Epoch : 24\tTraining Loss : 0.04926332099418631\tValidation Loss : 0.028592975242311473\n",
            "\n",
            "Epoch : 25\tTraining Loss : 0.04553326579273581\tValidation Loss : 0.01614071299211769\n",
            "Validation loss decreased from : 0.028592975242311473 ----> 0.01614071299211769 ----> Saving Model.......\n",
            "\n",
            "Epoch : 26\tTraining Loss : 0.04585066168188271\tValidation Loss : 0.01236655635472587\n",
            "Validation loss decreased from : 0.01614071299211769 ----> 0.01236655635472587 ----> Saving Model.......\n",
            "\n",
            "Epoch : 27\tTraining Loss : 0.04483601416520772\tValidation Loss : 0.01604091082825562\n",
            "\n",
            "Epoch : 28\tTraining Loss : 0.0439874375356926\tValidation Loss : 0.023292418998474035\n",
            "\n",
            "Epoch : 29\tTraining Loss : 0.045594473197064764\tValidation Loss : 0.029023860480303233\n",
            "\n",
            "Epoch : 30\tTraining Loss : 0.04155908477852807\tValidation Loss : 0.018846094280593858\n",
            "Validation loss decreased from : 0.029023860480303233 ----> 0.018846094280593858 ----> Saving Model.......\n",
            "\n",
            "Epoch : 31\tTraining Loss : 0.04055393329235523\tValidation Loss : 0.02182308797131429\n",
            "\n",
            "Epoch : 32\tTraining Loss : 0.044780770514636865\tValidation Loss : 0.014003896876052989\n",
            "Validation loss decreased from : 0.02182308797131429 ----> 0.014003896876052989 ----> Saving Model.......\n",
            "\n",
            "Epoch : 33\tTraining Loss : 0.039897666677460364\tValidation Loss : 0.010538492408085054\n",
            "Validation loss decreased from : 0.014003896876052989 ----> 0.010538492408085054 ----> Saving Model.......\n",
            "\n",
            "Epoch : 34\tTraining Loss : 0.037659841149678026\tValidation Loss : 0.022785998126010013\n",
            "\n",
            "Epoch : 35\tTraining Loss : 0.03932909614436749\tValidation Loss : 0.014968063682334526\n",
            "Validation loss decreased from : 0.022785998126010013 ----> 0.014968063682334526 ----> Saving Model.......\n",
            "\n",
            "Epoch : 36\tTraining Loss : 0.038883515141486524\tValidation Loss : 0.009455747081996051\n",
            "Validation loss decreased from : 0.014968063682334526 ----> 0.009455747081996051 ----> Saving Model.......\n",
            "\n",
            "Epoch : 37\tTraining Loss : 0.03662514198554903\tValidation Loss : 0.008562317327705637\n",
            "Validation loss decreased from : 0.009455747081996051 ----> 0.008562317327705637 ----> Saving Model.......\n",
            "\n",
            "Epoch : 38\tTraining Loss : 0.03744928579454214\tValidation Loss : 0.035982258535623965\n",
            "\n",
            "Epoch : 39\tTraining Loss : 0.03384367349277302\tValidation Loss : 0.00857524023942072\n",
            "Validation loss decreased from : 0.035982258535623965 ----> 0.00857524023942072 ----> Saving Model.......\n",
            "\n",
            "Epoch : 40\tTraining Loss : 0.03750126943412374\tValidation Loss : 0.01233581271426503\n",
            "\n",
            "Epoch : 41\tTraining Loss : 0.038058091639074386\tValidation Loss : 0.019230174897975606\n",
            "\n",
            "Epoch : 42\tTraining Loss : 0.03475050823807461\tValidation Loss : 0.01292125772569907\n",
            "Validation loss decreased from : 0.019230174897975606 ----> 0.01292125772569907 ----> Saving Model.......\n",
            "\n",
            "Epoch : 43\tTraining Loss : 0.035863529303146895\tValidation Loss : 0.013237551783850585\n",
            "\n",
            "Epoch : 44\tTraining Loss : 0.032951930108635515\tValidation Loss : 0.00696373171069935\n",
            "Validation loss decreased from : 0.013237551783850585 ----> 0.00696373171069935 ----> Saving Model.......\n",
            "\n",
            "Epoch : 45\tTraining Loss : 0.03669351251816051\tValidation Loss : 0.007468808750044908\n",
            "\n",
            "Epoch : 46\tTraining Loss : 0.0331404637858879\tValidation Loss : 0.007724142541787691\n",
            "\n",
            "Epoch : 47\tTraining Loss : 0.036786932746062435\tValidation Loss : 0.007212316613568533\n",
            "Validation loss decreased from : 0.007724142541787691 ----> 0.007212316613568533 ----> Saving Model.......\n",
            "\n",
            "Epoch : 48\tTraining Loss : 0.030144783609634043\tValidation Loss : 0.026908450322835033\n",
            "\n",
            "Epoch : 49\tTraining Loss : 0.0355986959617067\tValidation Loss : 0.0065868827571825\n",
            "Validation loss decreased from : 0.026908450322835033 ----> 0.0065868827571825 ----> Saving Model.......\n",
            "\n",
            "Epoch : 50\tTraining Loss : 0.030365340176324408\tValidation Loss : 0.004915509781818944\n",
            "Validation loss decreased from : 0.0065868827571825 ----> 0.004915509781818944 ----> Saving Model.......\n"
          ],
          "name": "stdout"
        }
      ]
    },
    {
      "cell_type": "code",
      "metadata": {
        "id": "MlkSmcmGNrEq",
        "colab_type": "code",
        "colab": {
          "base_uri": "https://localhost:8080/",
          "height": 1000
        },
        "outputId": "f4b29847-b56f-44fb-cf8a-3a81ee63d2ca"
      },
      "source": [
        "m2_loss"
      ],
      "execution_count": 14,
      "outputs": [
        {
          "output_type": "execute_result",
          "data": {
            "text/plain": [
              "{'train': [0.4822358698444441,\n",
              "  0.30753009125978376,\n",
              "  0.2582530663709622,\n",
              "  0.2261096736782929,\n",
              "  0.20094888373219874,\n",
              "  0.17755166650895263,\n",
              "  0.15982473263992383,\n",
              "  0.14243702443178335,\n",
              "  0.12960414957999697,\n",
              "  0.11665990345152749,\n",
              "  0.10507309147713689,\n",
              "  0.09553140321563963,\n",
              "  0.08683765788042062,\n",
              "  0.08136152901184611,\n",
              "  0.07834818864479909,\n",
              "  0.07152384685146633,\n",
              "  0.06471348146829556,\n",
              "  0.06542937912698023,\n",
              "  0.06145707659231023,\n",
              "  0.05575448910903271,\n",
              "  0.056222481315686516,\n",
              "  0.05383445834673773,\n",
              "  0.05186387716626994,\n",
              "  0.04926332099418631,\n",
              "  0.04553326579273581,\n",
              "  0.04585066168188271,\n",
              "  0.04483601416520772,\n",
              "  0.0439874375356926,\n",
              "  0.045594473197064764,\n",
              "  0.04155908477852807,\n",
              "  0.04055393329235523,\n",
              "  0.044780770514636865,\n",
              "  0.039897666677460364,\n",
              "  0.037659841149678026,\n",
              "  0.03932909614436749,\n",
              "  0.038883515141486524,\n",
              "  0.03662514198554903,\n",
              "  0.03744928579454214,\n",
              "  0.03384367349277302,\n",
              "  0.03750126943412374,\n",
              "  0.038058091639074386,\n",
              "  0.03475050823807461,\n",
              "  0.035863529303146895,\n",
              "  0.032951930108635515,\n",
              "  0.03669351251816051,\n",
              "  0.0331404637858879,\n",
              "  0.036786932746062435,\n",
              "  0.030144783609634043,\n",
              "  0.0355986959617067,\n",
              "  0.030365340176324408],\n",
              " 'valid': [0.3270762578072026,\n",
              "  0.2518682210989452,\n",
              "  0.19726231790652188,\n",
              "  0.18398194442202415,\n",
              "  0.15688568457146176,\n",
              "  0.14422466700430958,\n",
              "  0.12374957365536829,\n",
              "  0.10624388173387464,\n",
              "  0.10056136780876841,\n",
              "  0.08151846999254303,\n",
              "  0.08235131470321146,\n",
              "  0.060984818291466354,\n",
              "  0.04659334532310595,\n",
              "  0.057504714347424886,\n",
              "  0.04374245460698077,\n",
              "  0.03836928782334098,\n",
              "  0.03859894345122181,\n",
              "  0.03630804578280756,\n",
              "  0.03510884037642474,\n",
              "  0.03480454712748478,\n",
              "  0.03158955711578287,\n",
              "  0.042373706783845604,\n",
              "  0.027259712170831136,\n",
              "  0.028592975242311473,\n",
              "  0.01614071299211769,\n",
              "  0.01236655635472587,\n",
              "  0.01604091082825562,\n",
              "  0.023292418998474035,\n",
              "  0.029023860480303233,\n",
              "  0.018846094280593858,\n",
              "  0.02182308797131429,\n",
              "  0.014003896876052989,\n",
              "  0.010538492408085054,\n",
              "  0.022785998126010013,\n",
              "  0.014968063682334526,\n",
              "  0.009455747081996051,\n",
              "  0.008562317327705637,\n",
              "  0.035982258535623965,\n",
              "  0.00857524023942072,\n",
              "  0.01233581271426503,\n",
              "  0.019230174897975606,\n",
              "  0.01292125772569907,\n",
              "  0.013237551783850585,\n",
              "  0.00696373171069935,\n",
              "  0.007468808750044908,\n",
              "  0.007724142541787691,\n",
              "  0.007212316613568533,\n",
              "  0.026908450322835033,\n",
              "  0.0065868827571825,\n",
              "  0.004915509781818944]}"
            ]
          },
          "metadata": {
            "tags": []
          },
          "execution_count": 14
        }
      ]
    },
    {
      "cell_type": "markdown",
      "metadata": {
        "id": "j755gcJ_dw48",
        "colab_type": "text"
      },
      "source": [
        "## Loading model from Lowest Validation Loss"
      ]
    },
    {
      "cell_type": "code",
      "metadata": {
        "id": "CW_rPmHeNsSp",
        "colab_type": "code",
        "colab": {
          "base_uri": "https://localhost:8080/",
          "height": 34
        },
        "outputId": "f2e2d6e7-3b61-4072-dd1f-02112f3d0cf6"
      },
      "source": [
        "# Loading the model from the lowest validation loss \n",
        "model_1.load_state_dict(torch.load('FNet_model.pth'))\n",
        "model_2.load_state_dict(torch.load('convNet_model.pth'))\n"
      ],
      "execution_count": 15,
      "outputs": [
        {
          "output_type": "execute_result",
          "data": {
            "text/plain": [
              "<All keys matched successfully>"
            ]
          },
          "metadata": {
            "tags": []
          },
          "execution_count": 15
        }
      ]
    },
    {
      "cell_type": "code",
      "metadata": {
        "id": "8XtHnU_dNuiT",
        "colab_type": "code",
        "colab": {
          "base_uri": "https://localhost:8080/",
          "height": 323
        },
        "outputId": "45ed84d6-ca72-4390-850b-e00547cd8b55"
      },
      "source": [
        "print(model_1.state_dict,'\\n\\n\\n\\n',model_2.state_dict)"
      ],
      "execution_count": 16,
      "outputs": [
        {
          "output_type": "stream",
          "text": [
            "<bound method Module.state_dict of FNet(\n",
            "  (fc1): Linear(in_features=784, out_features=512, bias=True)\n",
            "  (fc2): Linear(in_features=512, out_features=256, bias=True)\n",
            "  (out): Linear(in_features=256, out_features=10, bias=True)\n",
            "  (dropout): Dropout(p=0.2, inplace=False)\n",
            ")> \n",
            "\n",
            "\n",
            "\n",
            " <bound method Module.state_dict of convNet(\n",
            "  (conv1): Conv2d(1, 16, kernel_size=(3, 3), stride=(1, 1), padding=(1, 1))\n",
            "  (conv2): Conv2d(16, 32, kernel_size=(3, 3), stride=(1, 1), padding=(1, 1))\n",
            "  (pool): MaxPool2d(kernel_size=2, stride=2, padding=0, dilation=1, ceil_mode=False)\n",
            "  (fc1): Linear(in_features=1568, out_features=512, bias=True)\n",
            "  (fc2): Linear(in_features=512, out_features=256, bias=True)\n",
            "  (out): Linear(in_features=256, out_features=10, bias=True)\n",
            "  (dropout): Dropout(p=0.2, inplace=False)\n",
            ")>\n"
          ],
          "name": "stdout"
        }
      ]
    },
    {
      "cell_type": "markdown",
      "metadata": {
        "id": "xXzYuriwd0g6",
        "colab_type": "text"
      },
      "source": [
        "## Plotting Training and Validation Losses"
      ]
    },
    {
      "cell_type": "code",
      "metadata": {
        "id": "bFiQYqY-NvkR",
        "colab_type": "code",
        "colab": {
          "base_uri": "https://localhost:8080/",
          "height": 336
        },
        "outputId": "b8e5216b-51dd-45fb-92a0-ac5e45df94cb"
      },
      "source": [
        "title=['FCNN','CNN']\n",
        "model_losses=[m1_loss,m2_loss]\n",
        "fig=plt.figure(1,figsize=(10,5))\n",
        "idx=1\n",
        "for i in model_losses:\n",
        "  ax=fig.add_subplot(1,2,idx)\n",
        "  ax.plot(i['train'],label=\"Training Loss\")\n",
        "  ax.plot(i['valid'],label=\"Validation Loss\")\n",
        "  ax.set_title('Fashion MNIST : '+title[idx-1])\n",
        "  idx+=1\n",
        "  plt.legend();"
      ],
      "execution_count": 17,
      "outputs": [
        {
          "output_type": "display_data",
          "data": {
            "image/png": "[encoded data removed]",
            "text/plain": [
              "<Figure size 720x360 with 2 Axes>"
            ]
          },
          "metadata": {
            "tags": [],
            "needs_background": "light"
          }
        }
      ]
    },
    {
      "cell_type": "markdown",
      "metadata": {
        "id": "q59oCFLSd3s2",
        "colab_type": "text"
      },
      "source": [
        "## Testing Phase"
      ]
    },
    {
      "cell_type": "code",
      "metadata": {
        "id": "W_Mg1CxXNwmv",
        "colab_type": "code",
        "colab": {}
      },
      "source": [
        "def test(model):\n",
        "    correct=0\n",
        "    test_loss=0\n",
        "    class_correct = list(0. for i in range(10))\n",
        "    class_total = list(0. for i in range(10))\n",
        "\n",
        "    model.eval() # test the model with dropout layers off\n",
        "    for images,labels in test_loader:\n",
        "        if use_cuda and torch.cuda.is_available():\n",
        "            images,labels=images.cuda(),labels.cuda()\n",
        "        output=model(images)\n",
        "        loss=criterion(output,labels)\n",
        "        test_loss+=loss.item()\n",
        "        _,pred=torch.max(output,1)\n",
        "        correct = np.squeeze(pred.eq(labels.data.view_as(pred)))\n",
        "\n",
        "        for i in range(batch_size):\n",
        "            label = labels.data[i]\n",
        "            class_correct[label] += correct[i].item()\n",
        "            class_total[label] += 1\n",
        "\n",
        "\n",
        "    test_loss=test_loss/len(train_loader)\n",
        "    print(f'For {type(model).__name__} :')\n",
        "    print(f\"Test Loss: {test_loss}\")\n",
        "    print(f\"Correctly predicted per class : {class_correct}, Total correctly perdicted : {sum(class_correct)}\")\n",
        "    print(f\"Total Predictions per class : {class_total}, Total predictions to be made : {sum(class_total)}\\n\")\n",
        "    for i in range(10):\n",
        "      if class_total[i] > 0:\n",
        "          print(f\"Test Accuracy of class {i} : {float(100 * class_correct[i] / class_total[i])}% where {int(np.sum(class_correct[i]))} of {int(np.sum(class_total[i]))} were predicted correctly\")\n",
        "      else:\n",
        "          print('Test Accuracy of %5s: N/A (no training examples)' % (classes[i]))\n",
        "\n",
        "    print(f\"\\nOverall Test Accuracy : {float(100. * np.sum(class_correct) / np.sum(class_total))}% where {int(np.sum(class_correct))} of {int(np.sum(class_total))} were predicted correctly\")\n",
        "    # obtain one batch of test images\n",
        "    dataiter = iter(test_loader)\n",
        "    images, labels = dataiter.next()\n",
        "\n",
        "    # get sample outputs\n",
        "    if use_cuda and torch.cuda.is_available():\n",
        "      images,labels=images.cuda(),labels.cuda()\n",
        "    output = model(images)\n",
        "    \n",
        "    # convert output probabilities to predicted class\n",
        "    _, preds = torch.max(output, 1)\n",
        "    # prep images for display\n",
        "    images = images.cpu().numpy()\n",
        "\n",
        "    fig = plt.figure(figsize=(15, 20))\n",
        "    for idx in np.arange(batch_size):\n",
        "        ax = fig.add_subplot(5, batch_size/5, idx+1, xticks=[], yticks=[])\n",
        "        plt.imshow(np.squeeze(images[idx]))\n",
        "        ax.set_title(\"{}-{} for ({}-{})\".format(str(preds[idx].item()), fashion_class[preds[idx].item()],str(labels[idx].item()),fashion_class[labels[idx].item()]),\n",
        "                    color=(\"blue\" if preds[idx]==labels[idx] else \"red\"))"
      ],
      "execution_count": 18,
      "outputs": []
    },
    {
      "cell_type": "markdown",
      "metadata": {
        "id": "fyk8xHaQd7V1",
        "colab_type": "text"
      },
      "source": [
        "## Visualizing a Test batch with results"
      ]
    },
    {
      "cell_type": "markdown",
      "metadata": {
        "id": "F21QcYbieREO",
        "colab_type": "text"
      },
      "source": [
        "### FCNN"
      ]
    },
    {
      "cell_type": "code",
      "metadata": {
        "id": "vFDla2DLNyMC",
        "colab_type": "code",
        "colab": {
          "base_uri": "https://localhost:8080/",
          "height": 1000
        },
        "outputId": "47cec191-9752-43bf-f2a9-6f535bee88d6"
      },
      "source": [
        "test(model_1)"
      ],
      "execution_count": 19,
      "outputs": [
        {
          "output_type": "stream",
          "text": [
            "For FNet :\n",
            "Test Loss: 0.08526107708061015\n",
            "Correctly predicted per class : [872.0, 980.0, 834.0, 884.0, 871.0, 962.0, 661.0, 982.0, 981.0, 929.0], Total correctly perdicted : 8956.0\n",
            "Total Predictions per class : [1000.0, 1000.0, 1000.0, 1000.0, 1000.0, 1000.0, 1000.0, 1000.0, 1000.0, 1000.0], Total predictions to be made : 10000.0\n",
            "\n",
            "Test Accuracy of class 0 : 87.2% where 872 of 1000 were predicted correctly\n",
            "Test Accuracy of class 1 : 98.0% where 980 of 1000 were predicted correctly\n",
            "Test Accuracy of class 2 : 83.4% where 834 of 1000 were predicted correctly\n",
            "Test Accuracy of class 3 : 88.4% where 884 of 1000 were predicted correctly\n",
            "Test Accuracy of class 4 : 87.1% where 871 of 1000 were predicted correctly\n",
            "Test Accuracy of class 5 : 96.2% where 962 of 1000 were predicted correctly\n",
            "Test Accuracy of class 6 : 66.1% where 661 of 1000 were predicted correctly\n",
            "Test Accuracy of class 7 : 98.2% where 982 of 1000 were predicted correctly\n",
            "Test Accuracy of class 8 : 98.1% where 981 of 1000 were predicted correctly\n",
            "Test Accuracy of class 9 : 92.9% where 929 of 1000 were predicted correctly\n",
            "\n",
            "Overall Test Accuracy : 89.56% where 8956 of 10000 were predicted correctly\n"
          ],
          "name": "stdout"
        },
        {
          "output_type": "display_data",
          "data": {
            "image/png": "[encoded data removed]",
            "text/plain": [
              "<Figure size 1080x1440 with 20 Axes>"
            ]
          },
          "metadata": {
            "tags": []
          }
        }
      ]
    },
    {
      "cell_type": "markdown",
      "metadata": {
        "id": "HMsTd3qReS9S",
        "colab_type": "text"
      },
      "source": [
        "### CNN"
      ]
    },
    {
      "cell_type": "code",
      "metadata": {
        "id": "zYLaljoHNzbX",
        "colab_type": "code",
        "colab": {
          "base_uri": "https://localhost:8080/",
          "height": 1000
        },
        "outputId": "ba655499-3171-441d-ca0a-d9b9e5646613"
      },
      "source": [
        "test(model_2)"
      ],
      "execution_count": 20,
      "outputs": [
        {
          "output_type": "stream",
          "text": [
            "For convNet :\n",
            "Test Loss: 0.16279748079078876\n",
            "Correctly predicted per class : [850.0, 986.0, 867.0, 921.0, 865.0, 985.0, 777.0, 975.0, 976.0, 964.0], Total correctly perdicted : 9166.0\n",
            "Total Predictions per class : [1000.0, 1000.0, 1000.0, 1000.0, 1000.0, 1000.0, 1000.0, 1000.0, 1000.0, 1000.0], Total predictions to be made : 10000.0\n",
            "\n",
            "Test Accuracy of class 0 : 85.0% where 850 of 1000 were predicted correctly\n",
            "Test Accuracy of class 1 : 98.6% where 986 of 1000 were predicted correctly\n",
            "Test Accuracy of class 2 : 86.7% where 867 of 1000 were predicted correctly\n",
            "Test Accuracy of class 3 : 92.1% where 921 of 1000 were predicted correctly\n",
            "Test Accuracy of class 4 : 86.5% where 865 of 1000 were predicted correctly\n",
            "Test Accuracy of class 5 : 98.5% where 985 of 1000 were predicted correctly\n",
            "Test Accuracy of class 6 : 77.7% where 777 of 1000 were predicted correctly\n",
            "Test Accuracy of class 7 : 97.5% where 975 of 1000 were predicted correctly\n",
            "Test Accuracy of class 8 : 97.6% where 976 of 1000 were predicted correctly\n",
            "Test Accuracy of class 9 : 96.4% where 964 of 1000 were predicted correctly\n",
            "\n",
            "Overall Test Accuracy : 91.66% where 9166 of 10000 were predicted correctly\n"
          ],
          "name": "stdout"
        },
        {
          "output_type": "display_data",
          "data": {
            "image/png": "[encoded data removed]",
            "text/plain": [
              "<Figure size 1080x1440 with 20 Axes>"
            ]
          },
          "metadata": {
            "tags": []
          }
        }
      ]
    }
  ]
}