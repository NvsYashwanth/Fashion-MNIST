{
  "nbformat": 4,
  "nbformat_minor": 0,
  "metadata": {
    "colab": {
      "name": "fashionMNIST.ipynb",
      "provenance": [],
      "toc_visible": true
    },
    "kernelspec": {
      "name": "python3",
      "display_name": "Python 3"
    },
    "accelerator": "GPU",
    "widgets": {
      "application/vnd.jupyter.widget-state+json": {
        "fc580d4a21b1437d985f7e7e1d8816bc": {
          "model_module": "@jupyter-widgets/controls",
          "model_name": "HBoxModel",
          "state": {
            "_view_name": "HBoxView",
            "_dom_classes": [],
            "_model_name": "HBoxModel",
            "_view_module": "@jupyter-widgets/controls",
            "_model_module_version": "1.5.0",
            "_view_count": null,
            "_view_module_version": "1.5.0",
            "box_style": "",
            "layout": "IPY_MODEL_aca1fda65c0945a59f1c4bfc44ef832f",
            "_model_module": "@jupyter-widgets/controls",
            "children": [
              "IPY_MODEL_e06d6f31368e447787cf753b1459807a",
              "IPY_MODEL_4709a0dc4cc544b8a9ccdb5397af5efe"
            ]
          }
        },
        "aca1fda65c0945a59f1c4bfc44ef832f": {
          "model_module": "@jupyter-widgets/base",
          "model_name": "LayoutModel",
          "state": {
            "_view_name": "LayoutView",
            "grid_template_rows": null,
            "right": null,
            "justify_content": null,
            "_view_module": "@jupyter-widgets/base",
            "overflow": null,
            "_model_module_version": "1.2.0",
            "_view_count": null,
            "flex_flow": null,
            "width": null,
            "min_width": null,
            "border": null,
            "align_items": null,
            "bottom": null,
            "_model_module": "@jupyter-widgets/base",
            "top": null,
            "grid_column": null,
            "overflow_y": null,
            "overflow_x": null,
            "grid_auto_flow": null,
            "grid_area": null,
            "grid_template_columns": null,
            "flex": null,
            "_model_name": "LayoutModel",
            "justify_items": null,
            "grid_row": null,
            "max_height": null,
            "align_content": null,
            "visibility": null,
            "align_self": null,
            "height": null,
            "min_height": null,
            "padding": null,
            "grid_auto_rows": null,
            "grid_gap": null,
            "max_width": null,
            "order": null,
            "_view_module_version": "1.2.0",
            "grid_template_areas": null,
            "object_position": null,
            "object_fit": null,
            "grid_auto_columns": null,
            "margin": null,
            "display": null,
            "left": null
          }
        },
        "e06d6f31368e447787cf753b1459807a": {
          "model_module": "@jupyter-widgets/controls",
          "model_name": "FloatProgressModel",
          "state": {
            "_view_name": "ProgressView",
            "style": "IPY_MODEL_a0e20760b82349c1b770fee11cdf60a8",
            "_dom_classes": [],
            "description": "",
            "_model_name": "FloatProgressModel",
            "bar_style": "success",
            "max": 1,
            "_view_module": "@jupyter-widgets/controls",
            "_model_module_version": "1.5.0",
            "value": 1,
            "_view_count": null,
            "_view_module_version": "1.5.0",
            "orientation": "horizontal",
            "min": 0,
            "description_tooltip": null,
            "_model_module": "@jupyter-widgets/controls",
            "layout": "IPY_MODEL_91699cf57025468ea78dcfd89251cd88"
          }
        },
        "4709a0dc4cc544b8a9ccdb5397af5efe": {
          "model_module": "@jupyter-widgets/controls",
          "model_name": "HTMLModel",
          "state": {
            "_view_name": "HTMLView",
            "style": "IPY_MODEL_f319a3275a2f48c7ac686117c4a45271",
            "_dom_classes": [],
            "description": "",
            "_model_name": "HTMLModel",
            "placeholder": "​",
            "_view_module": "@jupyter-widgets/controls",
            "_model_module_version": "1.5.0",
            "value": " 26427392/? [00:05&lt;00:00, 5185255.44it/s]",
            "_view_count": null,
            "_view_module_version": "1.5.0",
            "description_tooltip": null,
            "_model_module": "@jupyter-widgets/controls",
            "layout": "IPY_MODEL_f81fe5847bf64b83b99567bde3326cdf"
          }
        },
        "a0e20760b82349c1b770fee11cdf60a8": {
          "model_module": "@jupyter-widgets/controls",
          "model_name": "ProgressStyleModel",
          "state": {
            "_view_name": "StyleView",
            "_model_name": "ProgressStyleModel",
            "description_width": "initial",
            "_view_module": "@jupyter-widgets/base",
            "_model_module_version": "1.5.0",
            "_view_count": null,
            "_view_module_version": "1.2.0",
            "bar_color": null,
            "_model_module": "@jupyter-widgets/controls"
          }
        },
        "91699cf57025468ea78dcfd89251cd88": {
          "model_module": "@jupyter-widgets/base",
          "model_name": "LayoutModel",
          "state": {
            "_view_name": "LayoutView",
            "grid_template_rows": null,
            "right": null,
            "justify_content": null,
            "_view_module": "@jupyter-widgets/base",
            "overflow": null,
            "_model_module_version": "1.2.0",
            "_view_count": null,
            "flex_flow": null,
            "width": null,
            "min_width": null,
            "border": null,
            "align_items": null,
            "bottom": null,
            "_model_module": "@jupyter-widgets/base",
            "top": null,
            "grid_column": null,
            "overflow_y": null,
            "overflow_x": null,
            "grid_auto_flow": null,
            "grid_area": null,
            "grid_template_columns": null,
            "flex": null,
            "_model_name": "LayoutModel",
            "justify_items": null,
            "grid_row": null,
            "max_height": null,
            "align_content": null,
            "visibility": null,
            "align_self": null,
            "height": null,
            "min_height": null,
            "padding": null,
            "grid_auto_rows": null,
            "grid_gap": null,
            "max_width": null,
            "order": null,
            "_view_module_version": "1.2.0",
            "grid_template_areas": null,
            "object_position": null,
            "object_fit": null,
            "grid_auto_columns": null,
            "margin": null,
            "display": null,
            "left": null
          }
        },
        "f319a3275a2f48c7ac686117c4a45271": {
          "model_module": "@jupyter-widgets/controls",
          "model_name": "DescriptionStyleModel",
          "state": {
            "_view_name": "StyleView",
            "_model_name": "DescriptionStyleModel",
            "description_width": "",
            "_view_module": "@jupyter-widgets/base",
            "_model_module_version": "1.5.0",
            "_view_count": null,
            "_view_module_version": "1.2.0",
            "_model_module": "@jupyter-widgets/controls"
          }
        },
        "f81fe5847bf64b83b99567bde3326cdf": {
          "model_module": "@jupyter-widgets/base",
          "model_name": "LayoutModel",
          "state": {
            "_view_name": "LayoutView",
            "grid_template_rows": null,
            "right": null,
            "justify_content": null,
            "_view_module": "@jupyter-widgets/base",
            "overflow": null,
            "_model_module_version": "1.2.0",
            "_view_count": null,
            "flex_flow": null,
            "width": null,
            "min_width": null,
            "border": null,
            "align_items": null,
            "bottom": null,
            "_model_module": "@jupyter-widgets/base",
            "top": null,
            "grid_column": null,
            "overflow_y": null,
            "overflow_x": null,
            "grid_auto_flow": null,
            "grid_area": null,
            "grid_template_columns": null,
            "flex": null,
            "_model_name": "LayoutModel",
            "justify_items": null,
            "grid_row": null,
            "max_height": null,
            "align_content": null,
            "visibility": null,
            "align_self": null,
            "height": null,
            "min_height": null,
            "padding": null,
            "grid_auto_rows": null,
            "grid_gap": null,
            "max_width": null,
            "order": null,
            "_view_module_version": "1.2.0",
            "grid_template_areas": null,
            "object_position": null,
            "object_fit": null,
            "grid_auto_columns": null,
            "margin": null,
            "display": null,
            "left": null
          }
        },
        "7bda2eec4f87484589795d136ac8486e": {
          "model_module": "@jupyter-widgets/controls",
          "model_name": "HBoxModel",
          "state": {
            "_view_name": "HBoxView",
            "_dom_classes": [],
            "_model_name": "HBoxModel",
            "_view_module": "@jupyter-widgets/controls",
            "_model_module_version": "1.5.0",
            "_view_count": null,
            "_view_module_version": "1.5.0",
            "box_style": "",
            "layout": "IPY_MODEL_d12a71ce386c4472b59189eb424c6b23",
            "_model_module": "@jupyter-widgets/controls",
            "children": [
              "IPY_MODEL_972d2105646249e7bd2abc2f34b96f00",
              "IPY_MODEL_cbcbfe0c4dc24a8a8f969d954cab373f"
            ]
          }
        },
        "d12a71ce386c4472b59189eb424c6b23": {
          "model_module": "@jupyter-widgets/base",
          "model_name": "LayoutModel",
          "state": {
            "_view_name": "LayoutView",
            "grid_template_rows": null,
            "right": null,
            "justify_content": null,
            "_view_module": "@jupyter-widgets/base",
            "overflow": null,
            "_model_module_version": "1.2.0",
            "_view_count": null,
            "flex_flow": null,
            "width": null,
            "min_width": null,
            "border": null,
            "align_items": null,
            "bottom": null,
            "_model_module": "@jupyter-widgets/base",
            "top": null,
            "grid_column": null,
            "overflow_y": null,
            "overflow_x": null,
            "grid_auto_flow": null,
            "grid_area": null,
            "grid_template_columns": null,
            "flex": null,
            "_model_name": "LayoutModel",
            "justify_items": null,
            "grid_row": null,
            "max_height": null,
            "align_content": null,
            "visibility": null,
            "align_self": null,
            "height": null,
            "min_height": null,
            "padding": null,
            "grid_auto_rows": null,
            "grid_gap": null,
            "max_width": null,
            "order": null,
            "_view_module_version": "1.2.0",
            "grid_template_areas": null,
            "object_position": null,
            "object_fit": null,
            "grid_auto_columns": null,
            "margin": null,
            "display": null,
            "left": null
          }
        },
        "972d2105646249e7bd2abc2f34b96f00": {
          "model_module": "@jupyter-widgets/controls",
          "model_name": "FloatProgressModel",
          "state": {
            "_view_name": "ProgressView",
            "style": "IPY_MODEL_b1c90a60b2eb40a0bbd096fda3b890e2",
            "_dom_classes": [],
            "description": "",
            "_model_name": "FloatProgressModel",
            "bar_style": "success",
            "max": 1,
            "_view_module": "@jupyter-widgets/controls",
            "_model_module_version": "1.5.0",
            "value": 1,
            "_view_count": null,
            "_view_module_version": "1.5.0",
            "orientation": "horizontal",
            "min": 0,
            "description_tooltip": null,
            "_model_module": "@jupyter-widgets/controls",
            "layout": "IPY_MODEL_b7c1a53a06a949f988021acb408412e5"
          }
        },
        "cbcbfe0c4dc24a8a8f969d954cab373f": {
          "model_module": "@jupyter-widgets/controls",
          "model_name": "HTMLModel",
          "state": {
            "_view_name": "HTMLView",
            "style": "IPY_MODEL_a6f4578fef7943e7860c085ef12a5aba",
            "_dom_classes": [],
            "description": "",
            "_model_name": "HTMLModel",
            "placeholder": "​",
            "_view_module": "@jupyter-widgets/controls",
            "_model_module_version": "1.5.0",
            "value": " 32768/? [00:00&lt;00:00, 70819.67it/s]",
            "_view_count": null,
            "_view_module_version": "1.5.0",
            "description_tooltip": null,
            "_model_module": "@jupyter-widgets/controls",
            "layout": "IPY_MODEL_9d9862515cdd4a7f96abad5fff37f2d5"
          }
        },
        "b1c90a60b2eb40a0bbd096fda3b890e2": {
          "model_module": "@jupyter-widgets/controls",
          "model_name": "ProgressStyleModel",
          "state": {
            "_view_name": "StyleView",
            "_model_name": "ProgressStyleModel",
            "description_width": "initial",
            "_view_module": "@jupyter-widgets/base",
            "_model_module_version": "1.5.0",
            "_view_count": null,
            "_view_module_version": "1.2.0",
            "bar_color": null,
            "_model_module": "@jupyter-widgets/controls"
          }
        },
        "b7c1a53a06a949f988021acb408412e5": {
          "model_module": "@jupyter-widgets/base",
          "model_name": "LayoutModel",
          "state": {
            "_view_name": "LayoutView",
            "grid_template_rows": null,
            "right": null,
            "justify_content": null,
            "_view_module": "@jupyter-widgets/base",
            "overflow": null,
            "_model_module_version": "1.2.0",
            "_view_count": null,
            "flex_flow": null,
            "width": null,
            "min_width": null,
            "border": null,
            "align_items": null,
            "bottom": null,
            "_model_module": "@jupyter-widgets/base",
            "top": null,
            "grid_column": null,
            "overflow_y": null,
            "overflow_x": null,
            "grid_auto_flow": null,
            "grid_area": null,
            "grid_template_columns": null,
            "flex": null,
            "_model_name": "LayoutModel",
            "justify_items": null,
            "grid_row": null,
            "max_height": null,
            "align_content": null,
            "visibility": null,
            "align_self": null,
            "height": null,
            "min_height": null,
            "padding": null,
            "grid_auto_rows": null,
            "grid_gap": null,
            "max_width": null,
            "order": null,
            "_view_module_version": "1.2.0",
            "grid_template_areas": null,
            "object_position": null,
            "object_fit": null,
            "grid_auto_columns": null,
            "margin": null,
            "display": null,
            "left": null
          }
        },
        "a6f4578fef7943e7860c085ef12a5aba": {
          "model_module": "@jupyter-widgets/controls",
          "model_name": "DescriptionStyleModel",
          "state": {
            "_view_name": "StyleView",
            "_model_name": "DescriptionStyleModel",
            "description_width": "",
            "_view_module": "@jupyter-widgets/base",
            "_model_module_version": "1.5.0",
            "_view_count": null,
            "_view_module_version": "1.2.0",
            "_model_module": "@jupyter-widgets/controls"
          }
        },
        "9d9862515cdd4a7f96abad5fff37f2d5": {
          "model_module": "@jupyter-widgets/base",
          "model_name": "LayoutModel",
          "state": {
            "_view_name": "LayoutView",
            "grid_template_rows": null,
            "right": null,
            "justify_content": null,
            "_view_module": "@jupyter-widgets/base",
            "overflow": null,
            "_model_module_version": "1.2.0",
            "_view_count": null,
            "flex_flow": null,
            "width": null,
            "min_width": null,
            "border": null,
            "align_items": null,
            "bottom": null,
            "_model_module": "@jupyter-widgets/base",
            "top": null,
            "grid_column": null,
            "overflow_y": null,
            "overflow_x": null,
            "grid_auto_flow": null,
            "grid_area": null,
            "grid_template_columns": null,
            "flex": null,
            "_model_name": "LayoutModel",
            "justify_items": null,
            "grid_row": null,
            "max_height": null,
            "align_content": null,
            "visibility": null,
            "align_self": null,
            "height": null,
            "min_height": null,
            "padding": null,
            "grid_auto_rows": null,
            "grid_gap": null,
            "max_width": null,
            "order": null,
            "_view_module_version": "1.2.0",
            "grid_template_areas": null,
            "object_position": null,
            "object_fit": null,
            "grid_auto_columns": null,
            "margin": null,
            "display": null,
            "left": null
          }
        },
        "a4797d0cc0334f14954ce374d17601c0": {
          "model_module": "@jupyter-widgets/controls",
          "model_name": "HBoxModel",
          "state": {
            "_view_name": "HBoxView",
            "_dom_classes": [],
            "_model_name": "HBoxModel",
            "_view_module": "@jupyter-widgets/controls",
            "_model_module_version": "1.5.0",
            "_view_count": null,
            "_view_module_version": "1.5.0",
            "box_style": "",
            "layout": "IPY_MODEL_f87540a58cf540d39e545f326e9736da",
            "_model_module": "@jupyter-widgets/controls",
            "children": [
              "IPY_MODEL_db9767c14576465e88dd0f82324fd1db",
              "IPY_MODEL_0f6f965807eb42e8908b042fcb95729f"
            ]
          }
        },
        "f87540a58cf540d39e545f326e9736da": {
          "model_module": "@jupyter-widgets/base",
          "model_name": "LayoutModel",
          "state": {
            "_view_name": "LayoutView",
            "grid_template_rows": null,
            "right": null,
            "justify_content": null,
            "_view_module": "@jupyter-widgets/base",
            "overflow": null,
            "_model_module_version": "1.2.0",
            "_view_count": null,
            "flex_flow": null,
            "width": null,
            "min_width": null,
            "border": null,
            "align_items": null,
            "bottom": null,
            "_model_module": "@jupyter-widgets/base",
            "top": null,
            "grid_column": null,
            "overflow_y": null,
            "overflow_x": null,
            "grid_auto_flow": null,
            "grid_area": null,
            "grid_template_columns": null,
            "flex": null,
            "_model_name": "LayoutModel",
            "justify_items": null,
            "grid_row": null,
            "max_height": null,
            "align_content": null,
            "visibility": null,
            "align_self": null,
            "height": null,
            "min_height": null,
            "padding": null,
            "grid_auto_rows": null,
            "grid_gap": null,
            "max_width": null,
            "order": null,
            "_view_module_version": "1.2.0",
            "grid_template_areas": null,
            "object_position": null,
            "object_fit": null,
            "grid_auto_columns": null,
            "margin": null,
            "display": null,
            "left": null
          }
        },
        "db9767c14576465e88dd0f82324fd1db": {
          "model_module": "@jupyter-widgets/controls",
          "model_name": "FloatProgressModel",
          "state": {
            "_view_name": "ProgressView",
            "style": "IPY_MODEL_60e1bd899aa04df28b71837b7b85642f",
            "_dom_classes": [],
            "description": "",
            "_model_name": "FloatProgressModel",
            "bar_style": "success",
            "max": 1,
            "_view_module": "@jupyter-widgets/controls",
            "_model_module_version": "1.5.0",
            "value": 1,
            "_view_count": null,
            "_view_module_version": "1.5.0",
            "orientation": "horizontal",
            "min": 0,
            "description_tooltip": null,
            "_model_module": "@jupyter-widgets/controls",
            "layout": "IPY_MODEL_8f98ebfa83ca4dc093cb337af0492f65"
          }
        },
        "0f6f965807eb42e8908b042fcb95729f": {
          "model_module": "@jupyter-widgets/controls",
          "model_name": "HTMLModel",
          "state": {
            "_view_name": "HTMLView",
            "style": "IPY_MODEL_6a66e789a19248bb879746715b436c75",
            "_dom_classes": [],
            "description": "",
            "_model_name": "HTMLModel",
            "placeholder": "​",
            "_view_module": "@jupyter-widgets/controls",
            "_model_module_version": "1.5.0",
            "value": " 4423680/? [00:02&lt;00:00, 2050404.13it/s]",
            "_view_count": null,
            "_view_module_version": "1.5.0",
            "description_tooltip": null,
            "_model_module": "@jupyter-widgets/controls",
            "layout": "IPY_MODEL_e8b6fb418f5d498bac5561c181e799d4"
          }
        },
        "60e1bd899aa04df28b71837b7b85642f": {
          "model_module": "@jupyter-widgets/controls",
          "model_name": "ProgressStyleModel",
          "state": {
            "_view_name": "StyleView",
            "_model_name": "ProgressStyleModel",
            "description_width": "initial",
            "_view_module": "@jupyter-widgets/base",
            "_model_module_version": "1.5.0",
            "_view_count": null,
            "_view_module_version": "1.2.0",
            "bar_color": null,
            "_model_module": "@jupyter-widgets/controls"
          }
        },
        "8f98ebfa83ca4dc093cb337af0492f65": {
          "model_module": "@jupyter-widgets/base",
          "model_name": "LayoutModel",
          "state": {
            "_view_name": "LayoutView",
            "grid_template_rows": null,
            "right": null,
            "justify_content": null,
            "_view_module": "@jupyter-widgets/base",
            "overflow": null,
            "_model_module_version": "1.2.0",
            "_view_count": null,
            "flex_flow": null,
            "width": null,
            "min_width": null,
            "border": null,
            "align_items": null,
            "bottom": null,
            "_model_module": "@jupyter-widgets/base",
            "top": null,
            "grid_column": null,
            "overflow_y": null,
            "overflow_x": null,
            "grid_auto_flow": null,
            "grid_area": null,
            "grid_template_columns": null,
            "flex": null,
            "_model_name": "LayoutModel",
            "justify_items": null,
            "grid_row": null,
            "max_height": null,
            "align_content": null,
            "visibility": null,
            "align_self": null,
            "height": null,
            "min_height": null,
            "padding": null,
            "grid_auto_rows": null,
            "grid_gap": null,
            "max_width": null,
            "order": null,
            "_view_module_version": "1.2.0",
            "grid_template_areas": null,
            "object_position": null,
            "object_fit": null,
            "grid_auto_columns": null,
            "margin": null,
            "display": null,
            "left": null
          }
        },
        "6a66e789a19248bb879746715b436c75": {
          "model_module": "@jupyter-widgets/controls",
          "model_name": "DescriptionStyleModel",
          "state": {
            "_view_name": "StyleView",
            "_model_name": "DescriptionStyleModel",
            "description_width": "",
            "_view_module": "@jupyter-widgets/base",
            "_model_module_version": "1.5.0",
            "_view_count": null,
            "_view_module_version": "1.2.0",
            "_model_module": "@jupyter-widgets/controls"
          }
        },
        "e8b6fb418f5d498bac5561c181e799d4": {
          "model_module": "@jupyter-widgets/base",
          "model_name": "LayoutModel",
          "state": {
            "_view_name": "LayoutView",
            "grid_template_rows": null,
            "right": null,
            "justify_content": null,
            "_view_module": "@jupyter-widgets/base",
            "overflow": null,
            "_model_module_version": "1.2.0",
            "_view_count": null,
            "flex_flow": null,
            "width": null,
            "min_width": null,
            "border": null,
            "align_items": null,
            "bottom": null,
            "_model_module": "@jupyter-widgets/base",
            "top": null,
            "grid_column": null,
            "overflow_y": null,
            "overflow_x": null,
            "grid_auto_flow": null,
            "grid_area": null,
            "grid_template_columns": null,
            "flex": null,
            "_model_name": "LayoutModel",
            "justify_items": null,
            "grid_row": null,
            "max_height": null,
            "align_content": null,
            "visibility": null,
            "align_self": null,
            "height": null,
            "min_height": null,
            "padding": null,
            "grid_auto_rows": null,
            "grid_gap": null,
            "max_width": null,
            "order": null,
            "_view_module_version": "1.2.0",
            "grid_template_areas": null,
            "object_position": null,
            "object_fit": null,
            "grid_auto_columns": null,
            "margin": null,
            "display": null,
            "left": null
          }
        },
        "8fa18e7c97c24486b922892d07f2e489": {
          "model_module": "@jupyter-widgets/controls",
          "model_name": "HBoxModel",
          "state": {
            "_view_name": "HBoxView",
            "_dom_classes": [],
            "_model_name": "HBoxModel",
            "_view_module": "@jupyter-widgets/controls",
            "_model_module_version": "1.5.0",
            "_view_count": null,
            "_view_module_version": "1.5.0",
            "box_style": "",
            "layout": "IPY_MODEL_5ce8569bd94341da98d35180c5a5e61d",
            "_model_module": "@jupyter-widgets/controls",
            "children": [
              "IPY_MODEL_cdcc7796a6164685a2c99e8571a0d1c4",
              "IPY_MODEL_e6943c7e3649446e823b4e432bbace2b"
            ]
          }
        },
        "5ce8569bd94341da98d35180c5a5e61d": {
          "model_module": "@jupyter-widgets/base",
          "model_name": "LayoutModel",
          "state": {
            "_view_name": "LayoutView",
            "grid_template_rows": null,
            "right": null,
            "justify_content": null,
            "_view_module": "@jupyter-widgets/base",
            "overflow": null,
            "_model_module_version": "1.2.0",
            "_view_count": null,
            "flex_flow": null,
            "width": null,
            "min_width": null,
            "border": null,
            "align_items": null,
            "bottom": null,
            "_model_module": "@jupyter-widgets/base",
            "top": null,
            "grid_column": null,
            "overflow_y": null,
            "overflow_x": null,
            "grid_auto_flow": null,
            "grid_area": null,
            "grid_template_columns": null,
            "flex": null,
            "_model_name": "LayoutModel",
            "justify_items": null,
            "grid_row": null,
            "max_height": null,
            "align_content": null,
            "visibility": null,
            "align_self": null,
            "height": null,
            "min_height": null,
            "padding": null,
            "grid_auto_rows": null,
            "grid_gap": null,
            "max_width": null,
            "order": null,
            "_view_module_version": "1.2.0",
            "grid_template_areas": null,
            "object_position": null,
            "object_fit": null,
            "grid_auto_columns": null,
            "margin": null,
            "display": null,
            "left": null
          }
        },
        "cdcc7796a6164685a2c99e8571a0d1c4": {
          "model_module": "@jupyter-widgets/controls",
          "model_name": "FloatProgressModel",
          "state": {
            "_view_name": "ProgressView",
            "style": "IPY_MODEL_08d9d5cc5118426399f1db4182fa4cc3",
            "_dom_classes": [],
            "description": "",
            "_model_name": "FloatProgressModel",
            "bar_style": "success",
            "max": 1,
            "_view_module": "@jupyter-widgets/controls",
            "_model_module_version": "1.5.0",
            "value": 1,
            "_view_count": null,
            "_view_module_version": "1.5.0",
            "orientation": "horizontal",
            "min": 0,
            "description_tooltip": null,
            "_model_module": "@jupyter-widgets/controls",
            "layout": "IPY_MODEL_33a9751163c8406aac4706ff47ee1cb0"
          }
        },
        "e6943c7e3649446e823b4e432bbace2b": {
          "model_module": "@jupyter-widgets/controls",
          "model_name": "HTMLModel",
          "state": {
            "_view_name": "HTMLView",
            "style": "IPY_MODEL_10e2d9596e89480db1419f97826d5718",
            "_dom_classes": [],
            "description": "",
            "_model_name": "HTMLModel",
            "placeholder": "​",
            "_view_module": "@jupyter-widgets/controls",
            "_model_module_version": "1.5.0",
            "value": " 8192/? [00:00&lt;00:00, 10602.81it/s]",
            "_view_count": null,
            "_view_module_version": "1.5.0",
            "description_tooltip": null,
            "_model_module": "@jupyter-widgets/controls",
            "layout": "IPY_MODEL_d194c2d9e6d741e483552985f1c6be3a"
          }
        },
        "08d9d5cc5118426399f1db4182fa4cc3": {
          "model_module": "@jupyter-widgets/controls",
          "model_name": "ProgressStyleModel",
          "state": {
            "_view_name": "StyleView",
            "_model_name": "ProgressStyleModel",
            "description_width": "initial",
            "_view_module": "@jupyter-widgets/base",
            "_model_module_version": "1.5.0",
            "_view_count": null,
            "_view_module_version": "1.2.0",
            "bar_color": null,
            "_model_module": "@jupyter-widgets/controls"
          }
        },
        "33a9751163c8406aac4706ff47ee1cb0": {
          "model_module": "@jupyter-widgets/base",
          "model_name": "LayoutModel",
          "state": {
            "_view_name": "LayoutView",
            "grid_template_rows": null,
            "right": null,
            "justify_content": null,
            "_view_module": "@jupyter-widgets/base",
            "overflow": null,
            "_model_module_version": "1.2.0",
            "_view_count": null,
            "flex_flow": null,
            "width": null,
            "min_width": null,
            "border": null,
            "align_items": null,
            "bottom": null,
            "_model_module": "@jupyter-widgets/base",
            "top": null,
            "grid_column": null,
            "overflow_y": null,
            "overflow_x": null,
            "grid_auto_flow": null,
            "grid_area": null,
            "grid_template_columns": null,
            "flex": null,
            "_model_name": "LayoutModel",
            "justify_items": null,
            "grid_row": null,
            "max_height": null,
            "align_content": null,
            "visibility": null,
            "align_self": null,
            "height": null,
            "min_height": null,
            "padding": null,
            "grid_auto_rows": null,
            "grid_gap": null,
            "max_width": null,
            "order": null,
            "_view_module_version": "1.2.0",
            "grid_template_areas": null,
            "object_position": null,
            "object_fit": null,
            "grid_auto_columns": null,
            "margin": null,
            "display": null,
            "left": null
          }
        },
        "10e2d9596e89480db1419f97826d5718": {
          "model_module": "@jupyter-widgets/controls",
          "model_name": "DescriptionStyleModel",
          "state": {
            "_view_name": "StyleView",
            "_model_name": "DescriptionStyleModel",
            "description_width": "",
            "_view_module": "@jupyter-widgets/base",
            "_model_module_version": "1.5.0",
            "_view_count": null,
            "_view_module_version": "1.2.0",
            "_model_module": "@jupyter-widgets/controls"
          }
        },
        "d194c2d9e6d741e483552985f1c6be3a": {
          "model_module": "@jupyter-widgets/base",
          "model_name": "LayoutModel",
          "state": {
            "_view_name": "LayoutView",
            "grid_template_rows": null,
            "right": null,
            "justify_content": null,
            "_view_module": "@jupyter-widgets/base",
            "overflow": null,
            "_model_module_version": "1.2.0",
            "_view_count": null,
            "flex_flow": null,
            "width": null,
            "min_width": null,
            "border": null,
            "align_items": null,
            "bottom": null,
            "_model_module": "@jupyter-widgets/base",
            "top": null,
            "grid_column": null,
            "overflow_y": null,
            "overflow_x": null,
            "grid_auto_flow": null,
            "grid_area": null,
            "grid_template_columns": null,
            "flex": null,
            "_model_name": "LayoutModel",
            "justify_items": null,
            "grid_row": null,
            "max_height": null,
            "align_content": null,
            "visibility": null,
            "align_self": null,
            "height": null,
            "min_height": null,
            "padding": null,
            "grid_auto_rows": null,
            "grid_gap": null,
            "max_width": null,
            "order": null,
            "_view_module_version": "1.2.0",
            "grid_template_areas": null,
            "object_position": null,
            "object_fit": null,
            "grid_auto_columns": null,
            "margin": null,
            "display": null,
            "left": null
          }
        }
      }
    }
  },
  "cells": [
    {
      "cell_type": "markdown",
      "metadata": {
        "id": "YstdLXWhdBwQ",
        "colab_type": "text"
      },
      "source": [
        "# **Fashion MNIST Classification**\n",
        "A FFNN (Feed Forward Neural Network) and CNN (Convolutional Nerual Network) have been modeled"
      ]
    },
    {
      "cell_type": "markdown",
      "metadata": {
        "id": "rriMcMQ7eYTM",
        "colab_type": "text"
      },
      "source": [
        "## Import required packages"
      ]
    },
    {
      "cell_type": "code",
      "metadata": {
        "id": "bTNqUfeBHAAU",
        "colab_type": "code",
        "colab": {}
      },
      "source": [
        "import torch \n",
        "from torchvision import transforms,datasets\n",
        "import torch.nn as nn \n",
        "import torch.nn.functional as F\n",
        "from torch.utils.data import SubsetRandomSampler\n",
        "import matplotlib.pyplot as plt \n",
        "import numpy as np \n"
      ],
      "execution_count": 1,
      "outputs": []
    },
    {
      "cell_type": "markdown",
      "metadata": {
        "id": "4UY2JoHzdHGJ",
        "colab_type": "text"
      },
      "source": [
        "## Defining our Transforms"
      ]
    },
    {
      "cell_type": "code",
      "metadata": {
        "id": "a-seSsd7L3tx",
        "colab_type": "code",
        "colab": {}
      },
      "source": [
        "transform=transforms.Compose([transforms.ToTensor()])\n",
        "# To get the Normalization values do the follwing after downloading train data\n",
        "# print(train_data.data.float().mean()/255)\n",
        "# print(train_data.data.float().std()/255)"
      ],
      "execution_count": 2,
      "outputs": []
    },
    {
      "cell_type": "markdown",
      "metadata": {
        "id": "skQqPICKdWp7",
        "colab_type": "text"
      },
      "source": [
        "## Gathering the train and test data"
      ]
    },
    {
      "cell_type": "code",
      "metadata": {
        "id": "iJCf_quSMBTR",
        "colab_type": "code",
        "colab": {
          "base_uri": "https://localhost:8080/",
          "height": 386,
          "referenced_widgets": [
            "fc580d4a21b1437d985f7e7e1d8816bc",
            "aca1fda65c0945a59f1c4bfc44ef832f",
            "e06d6f31368e447787cf753b1459807a",
            "4709a0dc4cc544b8a9ccdb5397af5efe",
            "a0e20760b82349c1b770fee11cdf60a8",
            "91699cf57025468ea78dcfd89251cd88",
            "f319a3275a2f48c7ac686117c4a45271",
            "f81fe5847bf64b83b99567bde3326cdf",
            "7bda2eec4f87484589795d136ac8486e",
            "d12a71ce386c4472b59189eb424c6b23",
            "972d2105646249e7bd2abc2f34b96f00",
            "cbcbfe0c4dc24a8a8f969d954cab373f",
            "b1c90a60b2eb40a0bbd096fda3b890e2",
            "b7c1a53a06a949f988021acb408412e5",
            "a6f4578fef7943e7860c085ef12a5aba",
            "9d9862515cdd4a7f96abad5fff37f2d5",
            "a4797d0cc0334f14954ce374d17601c0",
            "f87540a58cf540d39e545f326e9736da",
            "db9767c14576465e88dd0f82324fd1db",
            "0f6f965807eb42e8908b042fcb95729f",
            "60e1bd899aa04df28b71837b7b85642f",
            "8f98ebfa83ca4dc093cb337af0492f65",
            "6a66e789a19248bb879746715b436c75",
            "e8b6fb418f5d498bac5561c181e799d4",
            "8fa18e7c97c24486b922892d07f2e489",
            "5ce8569bd94341da98d35180c5a5e61d",
            "cdcc7796a6164685a2c99e8571a0d1c4",
            "e6943c7e3649446e823b4e432bbace2b",
            "08d9d5cc5118426399f1db4182fa4cc3",
            "33a9751163c8406aac4706ff47ee1cb0",
            "10e2d9596e89480db1419f97826d5718",
            "d194c2d9e6d741e483552985f1c6be3a"
          ]
        },
        "outputId": "4e74aacf-f123-48c1-aa51-f32dad117e7a"
      },
      "source": [
        "train_data=datasets.FashionMNIST('data',train=True,download=True,transform=transform)\n",
        "test_data=datasets.FashionMNIST('data',train=False,download=True,transform=transform)"
      ],
      "execution_count": 3,
      "outputs": [
        {
          "output_type": "stream",
          "text": [
            "Downloading http://fashion-mnist.s3-website.eu-central-1.amazonaws.com/train-images-idx3-ubyte.gz to data/FashionMNIST/raw/train-images-idx3-ubyte.gz\n"
          ],
          "name": "stdout"
        },
        {
          "output_type": "display_data",
          "data": {
            "application/vnd.jupyter.widget-view+json": {
              "model_id": "fc580d4a21b1437d985f7e7e1d8816bc",
              "version_minor": 0,
              "version_major": 2
            },
            "text/plain": [
              "HBox(children=(FloatProgress(value=1.0, bar_style='info', max=1.0), HTML(value='')))"
            ]
          },
          "metadata": {
            "tags": []
          }
        },
        {
          "output_type": "stream",
          "text": [
            "Extracting data/FashionMNIST/raw/train-images-idx3-ubyte.gz to data/FashionMNIST/raw\n",
            "Downloading http://fashion-mnist.s3-website.eu-central-1.amazonaws.com/train-labels-idx1-ubyte.gz to data/FashionMNIST/raw/train-labels-idx1-ubyte.gz\n"
          ],
          "name": "stdout"
        },
        {
          "output_type": "display_data",
          "data": {
            "application/vnd.jupyter.widget-view+json": {
              "model_id": "7bda2eec4f87484589795d136ac8486e",
              "version_minor": 0,
              "version_major": 2
            },
            "text/plain": [
              "HBox(children=(FloatProgress(value=1.0, bar_style='info', max=1.0), HTML(value='')))"
            ]
          },
          "metadata": {
            "tags": []
          }
        },
        {
          "output_type": "stream",
          "text": [
            "Extracting data/FashionMNIST/raw/train-labels-idx1-ubyte.gz to data/FashionMNIST/raw\n",
            "Downloading http://fashion-mnist.s3-website.eu-central-1.amazonaws.com/t10k-images-idx3-ubyte.gz to data/FashionMNIST/raw/t10k-images-idx3-ubyte.gz\n",
            "\n"
          ],
          "name": "stdout"
        },
        {
          "output_type": "display_data",
          "data": {
            "application/vnd.jupyter.widget-view+json": {
              "model_id": "a4797d0cc0334f14954ce374d17601c0",
              "version_minor": 0,
              "version_major": 2
            },
            "text/plain": [
              "HBox(children=(FloatProgress(value=1.0, bar_style='info', max=1.0), HTML(value='')))"
            ]
          },
          "metadata": {
            "tags": []
          }
        },
        {
          "output_type": "stream",
          "text": [
            "Extracting data/FashionMNIST/raw/t10k-images-idx3-ubyte.gz to data/FashionMNIST/raw\n",
            "Downloading http://fashion-mnist.s3-website.eu-central-1.amazonaws.com/t10k-labels-idx1-ubyte.gz to data/FashionMNIST/raw/t10k-labels-idx1-ubyte.gz\n"
          ],
          "name": "stdout"
        },
        {
          "output_type": "display_data",
          "data": {
            "application/vnd.jupyter.widget-view+json": {
              "model_id": "8fa18e7c97c24486b922892d07f2e489",
              "version_minor": 0,
              "version_major": 2
            },
            "text/plain": [
              "HBox(children=(FloatProgress(value=1.0, bar_style='info', max=1.0), HTML(value='')))"
            ]
          },
          "metadata": {
            "tags": []
          }
        },
        {
          "output_type": "stream",
          "text": [
            "Extracting data/FashionMNIST/raw/t10k-labels-idx1-ubyte.gz to data/FashionMNIST/raw\n",
            "Processing...\n",
            "Done!\n"
          ],
          "name": "stdout"
        },
        {
          "output_type": "stream",
          "text": [
            "/usr/local/lib/python3.6/dist-packages/torchvision/datasets/mnist.py:469: UserWarning: The given NumPy array is not writeable, and PyTorch does not support non-writeable tensors. This means you can write to the underlying (supposedly non-writeable) NumPy array using the tensor. You may want to copy the array to protect its data or make it writeable before converting it to a tensor. This type of warning will be suppressed for the rest of this program. (Triggered internally at  /pytorch/torch/csrc/utils/tensor_numpy.cpp:141.)\n",
            "  return torch.from_numpy(parsed.astype(m[2], copy=False)).view(*s)\n"
          ],
          "name": "stderr"
        }
      ]
    },
    {
      "cell_type": "markdown",
      "metadata": {
        "id": "0ZWWvwJPdZHd",
        "colab_type": "text"
      },
      "source": [
        "## Defining our Train, Valid and Test Dataloaders"
      ]
    },
    {
      "cell_type": "code",
      "metadata": {
        "id": "z3JtY2-bMBol",
        "colab_type": "code",
        "colab": {
          "base_uri": "https://localhost:8080/",
          "height": 34
        },
        "outputId": "6ffe1caa-eac6-481f-f7b4-9912a23f8dad"
      },
      "source": [
        "valid_size=0.2\n",
        "train_length=len(train_data)\n",
        "\n",
        "indices=[i for i in range(train_length)]\n",
        "np.random.shuffle(indices)\n",
        "\n",
        "split=int(np.floor(valid_size*train_length))\n",
        "train_idx=indices[split:]\n",
        "valid_idx=indices[:split]\n",
        "\n",
        "\n",
        "train_sampler=SubsetRandomSampler(train_idx)\n",
        "valid_sampler=SubsetRandomSampler(valid_idx)\n",
        "\n",
        "num_workers=0\n",
        "batch_size=20\n",
        "train_loader=torch.utils.data.DataLoader(train_data,batch_size=batch_size,sampler=train_sampler,num_workers=num_workers)\n",
        "valid_loader=torch.utils.data.DataLoader(train_data,batch_size=batch_size,sampler=train_sampler,num_workers=num_workers)\n",
        "test_loader=torch.utils.data.DataLoader(test_data,batch_size=batch_size,num_workers=num_workers)\n",
        "\n",
        "# This is for debugging\n",
        "print(f\"Training data size : {train_idx.__len__()}, Validation data size : {valid_idx.__len__()}, Test data size : {test_loader.dataset.__len__()}\")"
      ],
      "execution_count": 4,
      "outputs": [
        {
          "output_type": "stream",
          "text": [
            "Training data size : 48000, Validation data size : 12000, Test data size : 10000\n"
          ],
          "name": "stdout"
        }
      ]
    },
    {
      "cell_type": "code",
      "metadata": {
        "id": "ge3AYtQDMHLH",
        "colab_type": "code",
        "colab": {
          "base_uri": "https://localhost:8080/",
          "height": 986
        },
        "outputId": "061924c4-e90d-4fe0-e4f2-4700bf291c71"
      },
      "source": [
        "# checking our data\n",
        "dataiter=iter(train_loader)\n",
        "images,labels=dataiter.next()\n",
        "print(images, images.shape, len(images), images[0].shape)\n",
        "print()\n",
        "print(labels,labels.shape,len(labels))"
      ],
      "execution_count": 5,
      "outputs": [
        {
          "output_type": "stream",
          "text": [
            "tensor([[[[0., 0., 0.,  ..., 0., 0., 0.],\n",
            "          [0., 0., 0.,  ..., 0., 0., 0.],\n",
            "          [0., 0., 0.,  ..., 0., 0., 0.],\n",
            "          ...,\n",
            "          [0., 0., 0.,  ..., 0., 0., 0.],\n",
            "          [0., 0., 0.,  ..., 0., 0., 0.],\n",
            "          [0., 0., 0.,  ..., 0., 0., 0.]]],\n",
            "\n",
            "\n",
            "        [[[0., 0., 0.,  ..., 0., 0., 0.],\n",
            "          [0., 0., 0.,  ..., 0., 0., 0.],\n",
            "          [0., 0., 0.,  ..., 0., 0., 0.],\n",
            "          ...,\n",
            "          [0., 0., 0.,  ..., 0., 0., 0.],\n",
            "          [0., 0., 0.,  ..., 0., 0., 0.],\n",
            "          [0., 0., 0.,  ..., 0., 0., 0.]]],\n",
            "\n",
            "\n",
            "        [[[0., 0., 0.,  ..., 0., 0., 0.],\n",
            "          [0., 0., 0.,  ..., 0., 0., 0.],\n",
            "          [0., 0., 0.,  ..., 0., 0., 0.],\n",
            "          ...,\n",
            "          [0., 0., 0.,  ..., 0., 0., 0.],\n",
            "          [0., 0., 0.,  ..., 0., 0., 0.],\n",
            "          [0., 0., 0.,  ..., 0., 0., 0.]]],\n",
            "\n",
            "\n",
            "        ...,\n",
            "\n",
            "\n",
            "        [[[0., 0., 0.,  ..., 0., 0., 0.],\n",
            "          [0., 0., 0.,  ..., 0., 0., 0.],\n",
            "          [0., 0., 0.,  ..., 0., 0., 0.],\n",
            "          ...,\n",
            "          [0., 0., 0.,  ..., 0., 0., 0.],\n",
            "          [0., 0., 0.,  ..., 0., 0., 0.],\n",
            "          [0., 0., 0.,  ..., 0., 0., 0.]]],\n",
            "\n",
            "\n",
            "        [[[0., 0., 0.,  ..., 0., 0., 0.],\n",
            "          [0., 0., 0.,  ..., 0., 0., 0.],\n",
            "          [0., 0., 0.,  ..., 0., 0., 0.],\n",
            "          ...,\n",
            "          [0., 0., 0.,  ..., 0., 0., 0.],\n",
            "          [0., 0., 0.,  ..., 0., 0., 0.],\n",
            "          [0., 0., 0.,  ..., 0., 0., 0.]]],\n",
            "\n",
            "\n",
            "        [[[0., 0., 0.,  ..., 0., 0., 0.],\n",
            "          [0., 0., 0.,  ..., 0., 0., 0.],\n",
            "          [0., 0., 0.,  ..., 0., 0., 0.],\n",
            "          ...,\n",
            "          [0., 0., 0.,  ..., 0., 0., 0.],\n",
            "          [0., 0., 0.,  ..., 0., 0., 0.],\n",
            "          [0., 0., 0.,  ..., 0., 0., 0.]]]]) torch.Size([20, 1, 28, 28]) 20 torch.Size([1, 28, 28])\n",
            "\n",
            "tensor([1, 2, 4, 1, 9, 2, 9, 7, 5, 3, 3, 3, 5, 1, 6, 6, 8, 6, 3, 2]) torch.Size([20]) 20\n"
          ],
          "name": "stdout"
        }
      ]
    },
    {
      "cell_type": "markdown",
      "metadata": {
        "id": "imJWkTzrdd-E",
        "colab_type": "text"
      },
      "source": [
        "## Visualizing a Training batch"
      ]
    },
    {
      "cell_type": "code",
      "metadata": {
        "id": "VyrZDsT-MI66",
        "colab_type": "code",
        "colab": {
          "base_uri": "https://localhost:8080/",
          "height": 486
        },
        "outputId": "e4be9550-26d7-42ad-af8f-757769c38ca9"
      },
      "source": [
        "fashion_class={\n",
        "    0:\"T-shirt/top\",\n",
        "    1:\"Trouser\",\n",
        "    2:\"Pullover\",\n",
        "    3:\"Dress\",\n",
        "    4:\"Coat\",\n",
        "    5:\"Sandal\",\n",
        "    6:\"Shirt\",\n",
        "    7:\"Sneaker\",\n",
        "    8:\"Bag\",\n",
        "    9:\"Ankle boot\"\n",
        "}\n",
        "\n",
        "fig=plt.figure(figsize=(30,10))\n",
        "for i in range(len(labels)):\n",
        "    ax=fig.add_subplot(2,10,i+1,xticks=[],yticks=[])\n",
        "    plt.imshow(np.squeeze(images[i]))\n",
        "    ax.set_title(f\"{fashion_class[labels[i].item()]}({labels[i].item()})\")\n",
        "    "
      ],
      "execution_count": 6,
      "outputs": [
        {
          "output_type": "stream",
          "text": [
            "\n",
            "\n",
            "\n"
          ],
          "name": "stdout"
        },
        {
          "output_type": "display_data",
          "data": {
            "image/png": "[encoded data removed]",
            "text/plain": [
              "<Figure size 2160x720 with 20 Axes>"
            ]
          },
          "metadata": {
            "tags": []
          }
        }
      ]
    },
    {
      "cell_type": "markdown",
      "metadata": {
        "id": "ZqMxkmHldha3",
        "colab_type": "text"
      },
      "source": [
        "## Defining our Neural Net Architecture"
      ]
    },
    {
      "cell_type": "code",
      "metadata": {
        "id": "8RG7js8qMMXN",
        "colab_type": "code",
        "colab": {}
      },
      "source": [
        "\n",
        "# Model 1 : This model has dropout set to a certain value\n",
        "# NOTE : When we want to use dropout we ensure we run train() method on our model --- during training , if not required we should use eval() method --- validation and testing\n",
        "class FNet(nn.Module):\n",
        "    def __init__(self):\n",
        "        super(FNet,self).__init__()\n",
        "        self.fc1=nn.Linear(784,512)\n",
        "        self.fc2=nn.Linear(512,256)\n",
        "        self.out=nn.Linear(256,10)\n",
        "        \n",
        "        # Dropout probability - set for avoiding overfitting\n",
        "        self.dropout=nn.Dropout(0.2)\n",
        "\n",
        "    def forward(self,x):\n",
        "        x = x.view(-1, 28 * 28)        \n",
        "        x=self.dropout(F.relu(self.fc1(x)))\n",
        "        x=self.dropout(F.relu(self.fc2(x)))\n",
        "        x=self.out(x)\n",
        "        return x\n",
        "\n",
        "class convNet(nn.Module):\n",
        "  def __init__(self):\n",
        "    super(convNet,self).__init__()\n",
        "    self.conv1=nn.Conv2d(in_channels=1,out_channels=16,kernel_size=3,padding=1,stride=1)\n",
        "    self.conv2=nn.Conv2d(in_channels=16,out_channels=32,kernel_size=3,padding=1,stride=1)\n",
        "    self.pool=nn.MaxPool2d(kernel_size=2,stride=2)\n",
        "\n",
        "\n",
        "    self.fc1=nn.Linear(7*7*32,512)\n",
        "    self.fc2=nn.Linear(512,256)\n",
        "    self.out=nn.Linear(256,10)\n",
        "    self.dropout=nn.Dropout(0.2)\n",
        "\n",
        "  def forward(self,x):\n",
        "    x=self.pool(F.relu(self.conv1(x)))\n",
        "    x=self.pool(F.relu(self.conv2(x)))\n",
        "    x=x.view(-1,7*7*32)\n",
        "    x = self.dropout(x)\n",
        "    x=self.dropout(F.relu(self.fc1(x)))\n",
        "    x=self.dropout(F.relu(self.fc2(x)))\n",
        "    x=self.out(x)\n",
        "    return x\n",
        "    "
      ],
      "execution_count": 7,
      "outputs": []
    },
    {
      "cell_type": "code",
      "metadata": {
        "id": "eUrfExS2MQxv",
        "colab_type": "code",
        "colab": {
          "base_uri": "https://localhost:8080/",
          "height": 391
        },
        "outputId": "37951121-78aa-458c-d930-e3c06ca38be4"
      },
      "source": [
        "model_1=FNet()\n",
        "model_2=convNet()\n",
        "def weight_init_normal(m):\n",
        "    classname=m.__class__.__name__\n",
        "    if classname.find('Linear')!=-1:\n",
        "        n = m.in_features\n",
        "        y = (1.0/np.sqrt(n))\n",
        "        m.weight.data.normal_(0, y)\n",
        "        m.bias.data.fill_(0)\n",
        "model_1.apply(weight_init_normal),model_2.apply(weight_init_normal)\n",
        "use_cuda=True\n",
        "if use_cuda and torch.cuda.is_available():\n",
        "  model_1.cuda()\n",
        "  model_2.cuda()\n",
        "\n",
        "\n",
        "print(model_1,'\\n\\n\\n\\n',model_2,'\\n\\n\\n\\n','On GPU : ',torch.cuda.is_available())"
      ],
      "execution_count": 8,
      "outputs": [
        {
          "output_type": "stream",
          "text": [
            "FNet(\n",
            "  (fc1): Linear(in_features=784, out_features=512, bias=True)\n",
            "  (fc2): Linear(in_features=512, out_features=256, bias=True)\n",
            "  (out): Linear(in_features=256, out_features=10, bias=True)\n",
            "  (dropout): Dropout(p=0.2, inplace=False)\n",
            ") \n",
            "\n",
            "\n",
            "\n",
            " convNet(\n",
            "  (conv1): Conv2d(1, 16, kernel_size=(3, 3), stride=(1, 1), padding=(1, 1))\n",
            "  (conv2): Conv2d(16, 32, kernel_size=(3, 3), stride=(1, 1), padding=(1, 1))\n",
            "  (pool): MaxPool2d(kernel_size=2, stride=2, padding=0, dilation=1, ceil_mode=False)\n",
            "  (fc1): Linear(in_features=1568, out_features=512, bias=True)\n",
            "  (fc2): Linear(in_features=512, out_features=256, bias=True)\n",
            "  (out): Linear(in_features=256, out_features=10, bias=True)\n",
            "  (dropout): Dropout(p=0.2, inplace=False)\n",
            ") \n",
            "\n",
            "\n",
            "\n",
            " On GPU :  True\n"
          ],
          "name": "stdout"
        }
      ]
    },
    {
      "cell_type": "markdown",
      "metadata": {
        "id": "rZnZJ02fdlSN",
        "colab_type": "text"
      },
      "source": [
        "## Defining our Loss Function"
      ]
    },
    {
      "cell_type": "code",
      "metadata": {
        "id": "CSmdkY1UNEiT",
        "colab_type": "code",
        "colab": {}
      },
      "source": [
        "# Loss Function\n",
        "# If we did not compute softmax at output use nn.CrossentropyLoss() else use nn.NLLLoss()\n",
        "criterion=nn.CrossEntropyLoss()\n"
      ],
      "execution_count": 9,
      "outputs": []
    },
    {
      "cell_type": "markdown",
      "metadata": {
        "id": "THQUtbIldsVB",
        "colab_type": "text"
      },
      "source": [
        "## Training and Validation Phase"
      ]
    },
    {
      "cell_type": "code",
      "metadata": {
        "id": "x08Vt1JrNN0U",
        "colab_type": "code",
        "colab": {}
      },
      "source": [
        "def trainNet(model,lr):\n",
        "    optimizer=torch.optim.Adam(model.parameters(),lr=lr)\n",
        "\n",
        "\n",
        "    # Number of epochs to train for\n",
        "    loss_keeper={'train':[],'valid':[]}\n",
        "    epochs=50\n",
        "\n",
        "    # minimum validation loss ----- set initial minimum to infinity\n",
        "    valid_loss_min = np.Inf \n",
        "\n",
        "    for epoch in range(epochs):\n",
        "        train_loss=0.0\n",
        "        valid_loss=0.0\n",
        "\n",
        "        \"\"\"\n",
        "        TRAINING PHASE\n",
        "        \"\"\"\n",
        "        model.train() # TURN ON DROPOUT for training\n",
        "        for images,labels in train_loader:\n",
        "            if use_cuda and torch.cuda.is_available():\n",
        "                images,labels=images.cuda(),labels.cuda()\n",
        "            optimizer.zero_grad()\n",
        "            output=model(images)\n",
        "            loss=criterion(output,labels)\n",
        "            loss.backward()\n",
        "            optimizer.step()\n",
        "            train_loss+=loss.item()\n",
        "\n",
        "        \"\"\"\n",
        "        VALIDATION PHASE\n",
        "        \"\"\"\n",
        "        model.eval() # TURN OFF DROPOUT for validation\n",
        "        for images,labels in valid_loader:\n",
        "            if use_cuda and torch.cuda.is_available():\n",
        "                images,labels=images.cuda(),labels.cuda()\n",
        "            output=model(images)\n",
        "            loss=criterion(output,labels)\n",
        "            valid_loss+=loss.item()\n",
        "\n",
        "        # Calculating loss over entire batch size for every epoch\n",
        "        train_loss = train_loss/len(train_loader)\n",
        "        valid_loss = valid_loss/len(valid_loader)\n",
        "\n",
        "\n",
        "        # saving loss values\n",
        "        loss_keeper['train'].append(train_loss)\n",
        "        loss_keeper['valid'].append(valid_loss)\n",
        "\n",
        "        print(f\"\\nEpoch : {epoch+1}\\tTraining Loss : {train_loss}\\tValidation Loss : {valid_loss}\")\n",
        "        if valid_loss<=valid_loss_min:\n",
        "            print(f\"Validation loss decreased from : {valid_loss_min} ----> {valid_loss} ----> Saving Model.......\")\n",
        "            z=type(model).__name__\n",
        "            torch.save(model.state_dict(), z+'_model.pth')\n",
        "            valid_loss_min=valid_loss\n",
        "    return(loss_keeper)"
      ],
      "execution_count": 10,
      "outputs": []
    },
    {
      "cell_type": "code",
      "metadata": {
        "id": "Y5zFbps9NmrL",
        "colab_type": "code",
        "colab": {
          "base_uri": "https://localhost:8080/",
          "height": 1000
        },
        "outputId": "180a6c82-ecd5-40ee-a835-9e55ba69b3bd"
      },
      "source": [
        "m1_loss=trainNet(model_1,0.001)"
      ],
      "execution_count": 11,
      "outputs": [
        {
          "output_type": "stream",
          "text": [
            "\n",
            "Epoch : 1\tTraining Loss : 0.5245737774328639\tValidation Loss : 0.40727028745692223\n",
            "Validation loss decreased from : inf ----> 0.40727028745692223 ----> Saving Model.......\n",
            "\n",
            "Epoch : 2\tTraining Loss : 0.41205299500686426\tValidation Loss : 0.33708525497854375\n",
            "Validation loss decreased from : 0.40727028745692223 ----> 0.33708525497854375 ----> Saving Model.......\n",
            "\n",
            "Epoch : 3\tTraining Loss : 0.37512027808232234\tValidation Loss : 0.3269843166414648\n",
            "Validation loss decreased from : 0.33708525497854375 ----> 0.3269843166414648 ----> Saving Model.......\n",
            "\n",
            "Epoch : 4\tTraining Loss : 0.35627668351400643\tValidation Loss : 0.2958452573659209\n",
            "Validation loss decreased from : 0.3269843166414648 ----> 0.2958452573659209 ----> Saving Model.......\n",
            "\n",
            "Epoch : 5\tTraining Loss : 0.3396964971123574\tValidation Loss : 0.30502018353901805\n",
            "\n",
            "Epoch : 6\tTraining Loss : 0.32586353985515115\tValidation Loss : 0.2715637166778712\n",
            "Validation loss decreased from : 0.2958452573659209 ----> 0.2715637166778712 ----> Saving Model.......\n",
            "\n",
            "Epoch : 7\tTraining Loss : 0.31807561103021725\tValidation Loss : 0.26199849298534295\n",
            "Validation loss decreased from : 0.2715637166778712 ----> 0.26199849298534295 ----> Saving Model.......\n",
            "\n",
            "Epoch : 8\tTraining Loss : 0.30708983439641696\tValidation Loss : 0.26751258108221615\n",
            "\n",
            "Epoch : 9\tTraining Loss : 0.30403845171366506\tValidation Loss : 0.274723426499404\n",
            "\n",
            "Epoch : 10\tTraining Loss : 0.29128749907889867\tValidation Loss : 0.25115181813307574\n",
            "Validation loss decreased from : 0.26199849298534295 ----> 0.25115181813307574 ----> Saving Model.......\n",
            "\n",
            "Epoch : 11\tTraining Loss : 0.28766232713048034\tValidation Loss : 0.23077004343445878\n",
            "Validation loss decreased from : 0.25115181813307574 ----> 0.23077004343445878 ----> Saving Model.......\n",
            "\n",
            "Epoch : 12\tTraining Loss : 0.2831367064003522\tValidation Loss : 0.23832117775726752\n",
            "\n",
            "Epoch : 13\tTraining Loss : 0.27554270743974485\tValidation Loss : 0.23073943035308428\n",
            "Validation loss decreased from : 0.23077004343445878 ----> 0.23073943035308428 ----> Saving Model.......\n",
            "\n",
            "Epoch : 14\tTraining Loss : 0.2725916432214823\tValidation Loss : 0.2211262550886022\n",
            "Validation loss decreased from : 0.23073943035308428 ----> 0.2211262550886022 ----> Saving Model.......\n",
            "\n",
            "Epoch : 15\tTraining Loss : 0.26784925135201776\tValidation Loss : 0.221039225050093\n",
            "Validation loss decreased from : 0.2211262550886022 ----> 0.221039225050093 ----> Saving Model.......\n",
            "\n",
            "Epoch : 16\tTraining Loss : 0.26537928035346947\tValidation Loss : 0.21334887140993183\n",
            "Validation loss decreased from : 0.221039225050093 ----> 0.21334887140993183 ----> Saving Model.......\n",
            "\n",
            "Epoch : 17\tTraining Loss : 0.259906140359235\tValidation Loss : 0.22627117416278147\n",
            "\n",
            "Epoch : 18\tTraining Loss : 0.25951209691023297\tValidation Loss : 0.21496708430349826\n",
            "\n",
            "Epoch : 19\tTraining Loss : 0.25233723516304357\tValidation Loss : 0.21057498534210026\n",
            "Validation loss decreased from : 0.21334887140993183 ----> 0.21057498534210026 ----> Saving Model.......\n",
            "\n",
            "Epoch : 20\tTraining Loss : 0.25175181417997616\tValidation Loss : 0.207845016256324\n",
            "Validation loss decreased from : 0.21057498534210026 ----> 0.207845016256324 ----> Saving Model.......\n",
            "\n",
            "Epoch : 21\tTraining Loss : 0.24591592026738604\tValidation Loss : 0.1953360619529849\n",
            "Validation loss decreased from : 0.207845016256324 ----> 0.1953360619529849 ----> Saving Model.......\n",
            "\n",
            "Epoch : 22\tTraining Loss : 0.24436698967086462\tValidation Loss : 0.19306999454041943\n",
            "Validation loss decreased from : 0.1953360619529849 ----> 0.19306999454041943 ----> Saving Model.......\n",
            "\n",
            "Epoch : 23\tTraining Loss : 0.24083079281728714\tValidation Loss : 0.18058974011830287\n",
            "Validation loss decreased from : 0.19306999454041943 ----> 0.18058974011830287 ----> Saving Model.......\n",
            "\n",
            "Epoch : 24\tTraining Loss : 0.23969198762138452\tValidation Loss : 0.19289185302419354\n",
            "\n",
            "Epoch : 25\tTraining Loss : 0.23489664492231288\tValidation Loss : 0.18110763866090565\n",
            "\n",
            "Epoch : 26\tTraining Loss : 0.23563934576805573\tValidation Loss : 0.20239229638575731\n",
            "\n",
            "Epoch : 27\tTraining Loss : 0.23154691223055124\tValidation Loss : 0.1905194523955773\n",
            "\n",
            "Epoch : 28\tTraining Loss : 0.22806961808829024\tValidation Loss : 0.18855374902564412\n",
            "\n",
            "Epoch : 29\tTraining Loss : 0.22848473104221437\tValidation Loss : 0.18245391538730474\n",
            "\n",
            "Epoch : 30\tTraining Loss : 0.2227636545842203\tValidation Loss : 0.1736720807434176\n",
            "Validation loss decreased from : 0.18058974011830287 ----> 0.1736720807434176 ----> Saving Model.......\n",
            "\n",
            "Epoch : 31\tTraining Loss : 0.22040115774972946\tValidation Loss : 0.18376961396449285\n",
            "\n",
            "Epoch : 32\tTraining Loss : 0.22619962989165893\tValidation Loss : 0.17774998219176874\n",
            "\n",
            "Epoch : 33\tTraining Loss : 0.22031544507665482\tValidation Loss : 0.17627970401309237\n",
            "\n",
            "Epoch : 34\tTraining Loss : 0.21519330151876603\tValidation Loss : 0.16811999650512008\n",
            "Validation loss decreased from : 0.1736720807434176 ----> 0.16811999650512008 ----> Saving Model.......\n",
            "\n",
            "Epoch : 35\tTraining Loss : 0.2193748861432969\tValidation Loss : 0.16050447910591173\n",
            "Validation loss decreased from : 0.16811999650512008 ----> 0.16050447910591173 ----> Saving Model.......\n",
            "\n",
            "Epoch : 36\tTraining Loss : 0.2162219042679741\tValidation Loss : 0.16475554045309157\n",
            "\n",
            "Epoch : 37\tTraining Loss : 0.21072389956447296\tValidation Loss : 0.1701625347051595\n",
            "\n",
            "Epoch : 38\tTraining Loss : 0.21120259532281732\tValidation Loss : 0.164194766539246\n",
            "\n",
            "Epoch : 39\tTraining Loss : 0.21253237069477715\tValidation Loss : 0.15373909978750475\n",
            "Validation loss decreased from : 0.16050447910591173 ----> 0.15373909978750475 ----> Saving Model.......\n",
            "\n",
            "Epoch : 40\tTraining Loss : 0.20905702414408248\tValidation Loss : 0.15264941157598513\n",
            "Validation loss decreased from : 0.15373909978750475 ----> 0.15264941157598513 ----> Saving Model.......\n",
            "\n",
            "Epoch : 41\tTraining Loss : 0.20989730593952116\tValidation Loss : 0.1556116297193512\n",
            "\n",
            "Epoch : 42\tTraining Loss : 0.1989290834204682\tValidation Loss : 0.14881553952072787\n",
            "Validation loss decreased from : 0.15264941157598513 ----> 0.14881553952072787 ----> Saving Model.......\n",
            "\n",
            "Epoch : 43\tTraining Loss : 0.2002430260998517\tValidation Loss : 0.15551074852905003\n",
            "\n",
            "Epoch : 44\tTraining Loss : 0.20228995973711184\tValidation Loss : 0.16045574291284234\n",
            "\n",
            "Epoch : 45\tTraining Loss : 0.1990763527260909\tValidation Loss : 0.15173892438089562\n",
            "\n",
            "Epoch : 46\tTraining Loss : 0.19904262827740846\tValidation Loss : 0.15177485206610677\n",
            "\n",
            "Epoch : 47\tTraining Loss : 0.1978510423864403\tValidation Loss : 0.15169739421755365\n",
            "\n",
            "Epoch : 48\tTraining Loss : 0.19788050228225984\tValidation Loss : 0.14420755654803846\n",
            "Validation loss decreased from : 0.14881553952072787 ----> 0.14420755654803846 ----> Saving Model.......\n",
            "\n",
            "Epoch : 49\tTraining Loss : 0.19404160389065508\tValidation Loss : 0.13866174922861016\n",
            "Validation loss decreased from : 0.14420755654803846 ----> 0.13866174922861016 ----> Saving Model.......\n",
            "\n",
            "Epoch : 50\tTraining Loss : 0.1997069023375093\tValidation Loss : 0.1452141469137617\n"
          ],
          "name": "stdout"
        }
      ]
    },
    {
      "cell_type": "code",
      "metadata": {
        "id": "FEpWCSyCNoLV",
        "colab_type": "code",
        "colab": {
          "base_uri": "https://localhost:8080/",
          "height": 1000
        },
        "outputId": "3e0e4904-5a11-41cd-ad6d-06f1b12fde54"
      },
      "source": [
        "m1_loss"
      ],
      "execution_count": 12,
      "outputs": [
        {
          "output_type": "execute_result",
          "data": {
            "text/plain": [
              "{'train': [0.5245737774328639,\n",
              "  0.41205299500686426,\n",
              "  0.37512027808232234,\n",
              "  0.35627668351400643,\n",
              "  0.3396964971123574,\n",
              "  0.32586353985515115,\n",
              "  0.31807561103021725,\n",
              "  0.30708983439641696,\n",
              "  0.30403845171366506,\n",
              "  0.29128749907889867,\n",
              "  0.28766232713048034,\n",
              "  0.2831367064003522,\n",
              "  0.27554270743974485,\n",
              "  0.2725916432214823,\n",
              "  0.26784925135201776,\n",
              "  0.26537928035346947,\n",
              "  0.259906140359235,\n",
              "  0.25951209691023297,\n",
              "  0.25233723516304357,\n",
              "  0.25175181417997616,\n",
              "  0.24591592026738604,\n",
              "  0.24436698967086462,\n",
              "  0.24083079281728714,\n",
              "  0.23969198762138452,\n",
              "  0.23489664492231288,\n",
              "  0.23563934576805573,\n",
              "  0.23154691223055124,\n",
              "  0.22806961808829024,\n",
              "  0.22848473104221437,\n",
              "  0.2227636545842203,\n",
              "  0.22040115774972946,\n",
              "  0.22619962989165893,\n",
              "  0.22031544507665482,\n",
              "  0.21519330151876603,\n",
              "  0.2193748861432969,\n",
              "  0.2162219042679741,\n",
              "  0.21072389956447296,\n",
              "  0.21120259532281732,\n",
              "  0.21253237069477715,\n",
              "  0.20905702414408248,\n",
              "  0.20989730593952116,\n",
              "  0.1989290834204682,\n",
              "  0.2002430260998517,\n",
              "  0.20228995973711184,\n",
              "  0.1990763527260909,\n",
              "  0.19904262827740846,\n",
              "  0.1978510423864403,\n",
              "  0.19788050228225984,\n",
              "  0.19404160389065508,\n",
              "  0.1997069023375093],\n",
              " 'valid': [0.40727028745692223,\n",
              "  0.33708525497854375,\n",
              "  0.3269843166414648,\n",
              "  0.2958452573659209,\n",
              "  0.30502018353901805,\n",
              "  0.2715637166778712,\n",
              "  0.26199849298534295,\n",
              "  0.26751258108221615,\n",
              "  0.274723426499404,\n",
              "  0.25115181813307574,\n",
              "  0.23077004343445878,\n",
              "  0.23832117775726752,\n",
              "  0.23073943035308428,\n",
              "  0.2211262550886022,\n",
              "  0.221039225050093,\n",
              "  0.21334887140993183,\n",
              "  0.22627117416278147,\n",
              "  0.21496708430349826,\n",
              "  0.21057498534210026,\n",
              "  0.207845016256324,\n",
              "  0.1953360619529849,\n",
              "  0.19306999454041943,\n",
              "  0.18058974011830287,\n",
              "  0.19289185302419354,\n",
              "  0.18110763866090565,\n",
              "  0.20239229638575731,\n",
              "  0.1905194523955773,\n",
              "  0.18855374902564412,\n",
              "  0.18245391538730474,\n",
              "  0.1736720807434176,\n",
              "  0.18376961396449285,\n",
              "  0.17774998219176874,\n",
              "  0.17627970401309237,\n",
              "  0.16811999650512008,\n",
              "  0.16050447910591173,\n",
              "  0.16475554045309157,\n",
              "  0.1701625347051595,\n",
              "  0.164194766539246,\n",
              "  0.15373909978750475,\n",
              "  0.15264941157598513,\n",
              "  0.1556116297193512,\n",
              "  0.14881553952072787,\n",
              "  0.15551074852905003,\n",
              "  0.16045574291284234,\n",
              "  0.15173892438089562,\n",
              "  0.15177485206610677,\n",
              "  0.15169739421755365,\n",
              "  0.14420755654803846,\n",
              "  0.13866174922861016,\n",
              "  0.1452141469137617]}"
            ]
          },
          "metadata": {
            "tags": []
          },
          "execution_count": 12
        }
      ]
    },
    {
      "cell_type": "code",
      "metadata": {
        "id": "OJ4WZ-jyNpxc",
        "colab_type": "code",
        "colab": {
          "base_uri": "https://localhost:8080/",
          "height": 1000
        },
        "outputId": "9d251672-f5a7-4855-d89b-ea1b01db3d02"
      },
      "source": [
        "m2_loss=trainNet(model_2,0.001)"
      ],
      "execution_count": 13,
      "outputs": [
        {
          "output_type": "stream",
          "text": [
            "\n",
            "Epoch : 1\tTraining Loss : 0.4795484571158886\tValidation Loss : 0.31273220816549535\n",
            "Validation loss decreased from : inf ----> 0.31273220816549535 ----> Saving Model.......\n",
            "\n",
            "Epoch : 2\tTraining Loss : 0.3173350762700041\tValidation Loss : 0.23918204094166867\n",
            "Validation loss decreased from : 0.31273220816549535 ----> 0.23918204094166867 ----> Saving Model.......\n",
            "\n",
            "Epoch : 3\tTraining Loss : 0.27447949518798853\tValidation Loss : 0.2130895116176301\n",
            "Validation loss decreased from : 0.23918204094166867 ----> 0.2130895116176301 ----> Saving Model.......\n",
            "\n",
            "Epoch : 4\tTraining Loss : 0.24477813980154073\tValidation Loss : 0.18251645672591016\n",
            "Validation loss decreased from : 0.2130895116176301 ----> 0.18251645672591016 ----> Saving Model.......\n",
            "\n",
            "Epoch : 5\tTraining Loss : 0.2235558565330575\tValidation Loss : 0.1694691702640072\n",
            "Validation loss decreased from : 0.18251645672591016 ----> 0.1694691702640072 ----> Saving Model.......\n",
            "\n",
            "Epoch : 6\tTraining Loss : 0.20756078502541642\tValidation Loss : 0.14767509349738248\n",
            "Validation loss decreased from : 0.1694691702640072 ----> 0.14767509349738248 ----> Saving Model.......\n",
            "\n",
            "Epoch : 7\tTraining Loss : 0.19212437911415084\tValidation Loss : 0.13543588985155414\n",
            "Validation loss decreased from : 0.14767509349738248 ----> 0.13543588985155414 ----> Saving Model.......\n",
            "\n",
            "Epoch : 8\tTraining Loss : 0.18010585031496398\tValidation Loss : 0.15352974321343937\n",
            "\n",
            "Epoch : 9\tTraining Loss : 0.16571191259402743\tValidation Loss : 0.12321102572391586\n",
            "Validation loss decreased from : 0.13543588985155414 ----> 0.12321102572391586 ----> Saving Model.......\n",
            "\n",
            "Epoch : 10\tTraining Loss : 0.15943761572215104\tValidation Loss : 0.10332786761042372\n",
            "Validation loss decreased from : 0.12321102572391586 ----> 0.10332786761042372 ----> Saving Model.......\n",
            "\n",
            "Epoch : 11\tTraining Loss : 0.1476734644507936\tValidation Loss : 0.09901878945368177\n",
            "Validation loss decreased from : 0.10332786761042372 ----> 0.09901878945368177 ----> Saving Model.......\n",
            "\n",
            "Epoch : 12\tTraining Loss : 0.13949095874687675\tValidation Loss : 0.0842537117095162\n",
            "Validation loss decreased from : 0.09901878945368177 ----> 0.0842537117095162 ----> Saving Model.......\n",
            "\n",
            "Epoch : 13\tTraining Loss : 0.13538698722348877\tValidation Loss : 0.07886038885614349\n",
            "Validation loss decreased from : 0.0842537117095162 ----> 0.07886038885614349 ----> Saving Model.......\n",
            "\n",
            "Epoch : 14\tTraining Loss : 0.12676684644667452\tValidation Loss : 0.06918543841461845\n",
            "Validation loss decreased from : 0.07886038885614349 ----> 0.06918543841461845 ----> Saving Model.......\n",
            "\n",
            "Epoch : 15\tTraining Loss : 0.12330863882613509\tValidation Loss : 0.07711940029228571\n",
            "\n",
            "Epoch : 16\tTraining Loss : 0.11797290926730057\tValidation Loss : 0.0592761817567983\n",
            "Validation loss decreased from : 0.06918543841461845 ----> 0.0592761817567983 ----> Saving Model.......\n",
            "\n",
            "Epoch : 17\tTraining Loss : 0.11228519654245853\tValidation Loss : 0.058099494670463325\n",
            "Validation loss decreased from : 0.0592761817567983 ----> 0.058099494670463325 ----> Saving Model.......\n",
            "\n",
            "Epoch : 18\tTraining Loss : 0.10714266181970136\tValidation Loss : 0.06826829813181878\n",
            "\n",
            "Epoch : 19\tTraining Loss : 0.09973824333054533\tValidation Loss : 0.04327338238050743\n",
            "Validation loss decreased from : 0.058099494670463325 ----> 0.04327338238050743 ----> Saving Model.......\n",
            "\n",
            "Epoch : 20\tTraining Loss : 0.10129936376109375\tValidation Loss : 0.04854287591166515\n",
            "\n",
            "Epoch : 21\tTraining Loss : 0.09411663640320436\tValidation Loss : 0.03929548764115831\n",
            "Validation loss decreased from : 0.04327338238050743 ----> 0.03929548764115831 ----> Saving Model.......\n",
            "\n",
            "Epoch : 22\tTraining Loss : 0.09561268586283328\tValidation Loss : 0.03389587369517737\n",
            "Validation loss decreased from : 0.03929548764115831 ----> 0.03389587369517737 ----> Saving Model.......\n",
            "\n",
            "Epoch : 23\tTraining Loss : 0.09034627869266236\tValidation Loss : 0.03661171247569655\n",
            "\n",
            "Epoch : 24\tTraining Loss : 0.08844642914188322\tValidation Loss : 0.04216075532233314\n",
            "\n",
            "Epoch : 25\tTraining Loss : 0.08562387986816626\tValidation Loss : 0.032828559314243645\n",
            "Validation loss decreased from : 0.03389587369517737 ----> 0.032828559314243645 ----> Saving Model.......\n",
            "\n",
            "Epoch : 26\tTraining Loss : 0.08477398798667825\tValidation Loss : 0.036523339341254464\n",
            "\n",
            "Epoch : 27\tTraining Loss : 0.08143051965540432\tValidation Loss : 0.026607998045423926\n",
            "Validation loss decreased from : 0.032828559314243645 ----> 0.026607998045423926 ----> Saving Model.......\n",
            "\n",
            "Epoch : 28\tTraining Loss : 0.08055603952888134\tValidation Loss : 0.029175634944312114\n",
            "\n",
            "Epoch : 29\tTraining Loss : 0.07787930377843869\tValidation Loss : 0.02720605140280687\n",
            "\n",
            "Epoch : 30\tTraining Loss : 0.07576567459934179\tValidation Loss : 0.02299421001055085\n",
            "Validation loss decreased from : 0.026607998045423926 ----> 0.02299421001055085 ----> Saving Model.......\n",
            "\n",
            "Epoch : 31\tTraining Loss : 0.07473747702523004\tValidation Loss : 0.02070934831689213\n",
            "Validation loss decreased from : 0.02299421001055085 ----> 0.02070934831689213 ----> Saving Model.......\n",
            "\n",
            "Epoch : 32\tTraining Loss : 0.07545270113245768\tValidation Loss : 0.022409575816892964\n",
            "\n",
            "Epoch : 33\tTraining Loss : 0.07152779797578404\tValidation Loss : 0.021212398584387605\n",
            "\n",
            "Epoch : 34\tTraining Loss : 0.0742624747035643\tValidation Loss : 0.015471389006118634\n",
            "Validation loss decreased from : 0.02070934831689213 ----> 0.015471389006118634 ----> Saving Model.......\n",
            "\n",
            "Epoch : 35\tTraining Loss : 0.06874973939579182\tValidation Loss : 0.020556579606571194\n",
            "\n",
            "Epoch : 36\tTraining Loss : 0.07102298685327421\tValidation Loss : 0.016076693334219763\n",
            "\n",
            "Epoch : 37\tTraining Loss : 0.06724359062363788\tValidation Loss : 0.01968076096537595\n",
            "\n",
            "Epoch : 38\tTraining Loss : 0.06734503121469843\tValidation Loss : 0.02031607457025866\n",
            "\n",
            "Epoch : 39\tTraining Loss : 0.0640434335701202\tValidation Loss : 0.014681399986749095\n",
            "Validation loss decreased from : 0.015471389006118634 ----> 0.014681399986749095 ----> Saving Model.......\n",
            "\n",
            "Epoch : 40\tTraining Loss : 0.0676434264319304\tValidation Loss : 0.02202962383334668\n",
            "\n",
            "Epoch : 41\tTraining Loss : 0.06762472466224609\tValidation Loss : 0.020555324587054193\n",
            "\n",
            "Epoch : 42\tTraining Loss : 0.06139595134342544\tValidation Loss : 0.014432059690350746\n",
            "Validation loss decreased from : 0.014681399986749095 ----> 0.014432059690350746 ----> Saving Model.......\n",
            "\n",
            "Epoch : 43\tTraining Loss : 0.0659437619101114\tValidation Loss : 0.014368621438416695\n",
            "Validation loss decreased from : 0.014432059690350746 ----> 0.014368621438416695 ----> Saving Model.......\n",
            "\n",
            "Epoch : 44\tTraining Loss : 0.06430547152827931\tValidation Loss : 0.012925399918791276\n",
            "Validation loss decreased from : 0.014368621438416695 ----> 0.012925399918791276 ----> Saving Model.......\n",
            "\n",
            "Epoch : 45\tTraining Loss : 0.0591346730098943\tValidation Loss : 0.014023829864750492\n",
            "\n",
            "Epoch : 46\tTraining Loss : 0.06175600670377919\tValidation Loss : 0.011199645710408188\n",
            "Validation loss decreased from : 0.012925399918791276 ----> 0.011199645710408188 ----> Saving Model.......\n",
            "\n",
            "Epoch : 47\tTraining Loss : 0.05995946713099471\tValidation Loss : 0.013936496404054068\n",
            "\n",
            "Epoch : 48\tTraining Loss : 0.057371488120178796\tValidation Loss : 0.014890902989033098\n",
            "\n",
            "Epoch : 49\tTraining Loss : 0.05612483223812193\tValidation Loss : 0.018274710641803818\n",
            "\n",
            "Epoch : 50\tTraining Loss : 0.056676250305219646\tValidation Loss : 0.014393110367601783\n"
          ],
          "name": "stdout"
        }
      ]
    },
    {
      "cell_type": "code",
      "metadata": {
        "id": "MlkSmcmGNrEq",
        "colab_type": "code",
        "colab": {
          "base_uri": "https://localhost:8080/",
          "height": 1000
        },
        "outputId": "8040d8ab-0a69-4189-88a8-28dbd3d7866f"
      },
      "source": [
        "m2_loss"
      ],
      "execution_count": 14,
      "outputs": [
        {
          "output_type": "execute_result",
          "data": {
            "text/plain": [
              "{'train': [0.4795484571158886,\n",
              "  0.3173350762700041,\n",
              "  0.27447949518798853,\n",
              "  0.24477813980154073,\n",
              "  0.2235558565330575,\n",
              "  0.20756078502541642,\n",
              "  0.19212437911415084,\n",
              "  0.18010585031496398,\n",
              "  0.16571191259402743,\n",
              "  0.15943761572215104,\n",
              "  0.1476734644507936,\n",
              "  0.13949095874687675,\n",
              "  0.13538698722348877,\n",
              "  0.12676684644667452,\n",
              "  0.12330863882613509,\n",
              "  0.11797290926730057,\n",
              "  0.11228519654245853,\n",
              "  0.10714266181970136,\n",
              "  0.09973824333054533,\n",
              "  0.10129936376109375,\n",
              "  0.09411663640320436,\n",
              "  0.09561268586283328,\n",
              "  0.09034627869266236,\n",
              "  0.08844642914188322,\n",
              "  0.08562387986816626,\n",
              "  0.08477398798667825,\n",
              "  0.08143051965540432,\n",
              "  0.08055603952888134,\n",
              "  0.07787930377843869,\n",
              "  0.07576567459934179,\n",
              "  0.07473747702523004,\n",
              "  0.07545270113245768,\n",
              "  0.07152779797578404,\n",
              "  0.0742624747035643,\n",
              "  0.06874973939579182,\n",
              "  0.07102298685327421,\n",
              "  0.06724359062363788,\n",
              "  0.06734503121469843,\n",
              "  0.0640434335701202,\n",
              "  0.0676434264319304,\n",
              "  0.06762472466224609,\n",
              "  0.06139595134342544,\n",
              "  0.0659437619101114,\n",
              "  0.06430547152827931,\n",
              "  0.0591346730098943,\n",
              "  0.06175600670377919,\n",
              "  0.05995946713099471,\n",
              "  0.057371488120178796,\n",
              "  0.05612483223812193,\n",
              "  0.056676250305219646],\n",
              " 'valid': [0.31273220816549535,\n",
              "  0.23918204094166867,\n",
              "  0.2130895116176301,\n",
              "  0.18251645672591016,\n",
              "  0.1694691702640072,\n",
              "  0.14767509349738248,\n",
              "  0.13543588985155414,\n",
              "  0.15352974321343937,\n",
              "  0.12321102572391586,\n",
              "  0.10332786761042372,\n",
              "  0.09901878945368177,\n",
              "  0.0842537117095162,\n",
              "  0.07886038885614349,\n",
              "  0.06918543841461845,\n",
              "  0.07711940029228571,\n",
              "  0.0592761817567983,\n",
              "  0.058099494670463325,\n",
              "  0.06826829813181878,\n",
              "  0.04327338238050743,\n",
              "  0.04854287591166515,\n",
              "  0.03929548764115831,\n",
              "  0.03389587369517737,\n",
              "  0.03661171247569655,\n",
              "  0.04216075532233314,\n",
              "  0.032828559314243645,\n",
              "  0.036523339341254464,\n",
              "  0.026607998045423926,\n",
              "  0.029175634944312114,\n",
              "  0.02720605140280687,\n",
              "  0.02299421001055085,\n",
              "  0.02070934831689213,\n",
              "  0.022409575816892964,\n",
              "  0.021212398584387605,\n",
              "  0.015471389006118634,\n",
              "  0.020556579606571194,\n",
              "  0.016076693334219763,\n",
              "  0.01968076096537595,\n",
              "  0.02031607457025866,\n",
              "  0.014681399986749095,\n",
              "  0.02202962383334668,\n",
              "  0.020555324587054193,\n",
              "  0.014432059690350746,\n",
              "  0.014368621438416695,\n",
              "  0.012925399918791276,\n",
              "  0.014023829864750492,\n",
              "  0.011199645710408188,\n",
              "  0.013936496404054068,\n",
              "  0.014890902989033098,\n",
              "  0.018274710641803818,\n",
              "  0.014393110367601783]}"
            ]
          },
          "metadata": {
            "tags": []
          },
          "execution_count": 14
        }
      ]
    },
    {
      "cell_type": "markdown",
      "metadata": {
        "id": "j755gcJ_dw48",
        "colab_type": "text"
      },
      "source": [
        "## Loading model from Lowest Validation Loss"
      ]
    },
    {
      "cell_type": "code",
      "metadata": {
        "id": "CW_rPmHeNsSp",
        "colab_type": "code",
        "colab": {
          "base_uri": "https://localhost:8080/",
          "height": 34
        },
        "outputId": "6a1976a9-6879-45a8-e934-87f18a3d8d8f"
      },
      "source": [
        "# Loading the model from the lowest validation loss \n",
        "model_1.load_state_dict(torch.load('FNet_model.pth'))\n",
        "model_2.load_state_dict(torch.load('convNet_model.pth'))\n"
      ],
      "execution_count": 15,
      "outputs": [
        {
          "output_type": "execute_result",
          "data": {
            "text/plain": [
              "<All keys matched successfully>"
            ]
          },
          "metadata": {
            "tags": []
          },
          "execution_count": 15
        }
      ]
    },
    {
      "cell_type": "code",
      "metadata": {
        "id": "8XtHnU_dNuiT",
        "colab_type": "code",
        "colab": {
          "base_uri": "https://localhost:8080/",
          "height": 323
        },
        "outputId": "58851509-2fc2-4972-b2ad-99616fff8d38"
      },
      "source": [
        "print(model_1.state_dict,'\\n\\n\\n\\n',model_2.state_dict)"
      ],
      "execution_count": 16,
      "outputs": [
        {
          "output_type": "stream",
          "text": [
            "<bound method Module.state_dict of FNet(\n",
            "  (fc1): Linear(in_features=784, out_features=512, bias=True)\n",
            "  (fc2): Linear(in_features=512, out_features=256, bias=True)\n",
            "  (out): Linear(in_features=256, out_features=10, bias=True)\n",
            "  (dropout): Dropout(p=0.2, inplace=False)\n",
            ")> \n",
            "\n",
            "\n",
            "\n",
            " <bound method Module.state_dict of convNet(\n",
            "  (conv1): Conv2d(1, 16, kernel_size=(3, 3), stride=(1, 1), padding=(1, 1))\n",
            "  (conv2): Conv2d(16, 32, kernel_size=(3, 3), stride=(1, 1), padding=(1, 1))\n",
            "  (pool): MaxPool2d(kernel_size=2, stride=2, padding=0, dilation=1, ceil_mode=False)\n",
            "  (fc1): Linear(in_features=1568, out_features=512, bias=True)\n",
            "  (fc2): Linear(in_features=512, out_features=256, bias=True)\n",
            "  (out): Linear(in_features=256, out_features=10, bias=True)\n",
            "  (dropout): Dropout(p=0.2, inplace=False)\n",
            ")>\n"
          ],
          "name": "stdout"
        }
      ]
    },
    {
      "cell_type": "markdown",
      "metadata": {
        "id": "xXzYuriwd0g6",
        "colab_type": "text"
      },
      "source": [
        "## Plotting Training and Validation Losses"
      ]
    },
    {
      "cell_type": "code",
      "metadata": {
        "id": "bFiQYqY-NvkR",
        "colab_type": "code",
        "colab": {
          "base_uri": "https://localhost:8080/",
          "height": 336
        },
        "outputId": "9ace631a-9da0-4920-88a9-4d82747c3f99"
      },
      "source": [
        "title=['FFNN','CNN']\n",
        "model_losses=[m1_loss,m2_loss]\n",
        "fig=plt.figure(1,figsize=(10,5))\n",
        "idx=1\n",
        "for i in model_losses:\n",
        "  ax=fig.add_subplot(1,2,idx)\n",
        "  ax.plot(i['train'],label=\"Training Loss\")\n",
        "  ax.plot(i['valid'],label=\"Validation Loss\")\n",
        "  ax.set_title('Fashion MNIST : '+title[idx-1])\n",
        "  idx+=1\n",
        "  plt.legend();"
      ],
      "execution_count": 17,
      "outputs": [
        {
          "output_type": "display_data",
          "data": {
            "image/png": "[encoded data removed]",
            "text/plain": [
              "<Figure size 720x360 with 2 Axes>"
            ]
          },
          "metadata": {
            "tags": [],
            "needs_background": "light"
          }
        }
      ]
    },
    {
      "cell_type": "markdown",
      "metadata": {
        "id": "q59oCFLSd3s2",
        "colab_type": "text"
      },
      "source": [
        "## Testing Phase"
      ]
    },
    {
      "cell_type": "code",
      "metadata": {
        "id": "W_Mg1CxXNwmv",
        "colab_type": "code",
        "colab": {}
      },
      "source": [
        "def test(model):\n",
        "    correct=0\n",
        "    test_loss=0\n",
        "    class_correct = list(0. for i in range(10))\n",
        "    class_total = list(0. for i in range(10))\n",
        "\n",
        "    model.eval() # test the model with dropout layers off\n",
        "    for images,labels in test_loader:\n",
        "        if use_cuda and torch.cuda.is_available():\n",
        "            images,labels=images.cuda(),labels.cuda()\n",
        "        output=model(images)\n",
        "        loss=criterion(output,labels)\n",
        "        test_loss+=loss.item()\n",
        "        _,pred=torch.max(output,1)\n",
        "        correct = np.squeeze(pred.eq(labels.data.view_as(pred)))\n",
        "\n",
        "        for i in range(batch_size):\n",
        "            label = labels.data[i]\n",
        "            class_correct[label] += correct[i].item()\n",
        "            class_total[label] += 1\n",
        "\n",
        "\n",
        "    test_loss=test_loss/len(test_loader)\n",
        "    print(f'For {type(model).__name__} :')\n",
        "    print(f\"Test Loss: {test_loss}\")\n",
        "    print(f\"Correctly predicted per class : {class_correct}, Total correctly perdicted : {sum(class_correct)}\")\n",
        "    print(f\"Total Predictions per class : {class_total}, Total predictions to be made : {sum(class_total)}\\n\")\n",
        "    for i in range(10):\n",
        "      if class_total[i] > 0:\n",
        "          print(f\"Test Accuracy of class {fashion_class[i]} : {float(100 * class_correct[i] / class_total[i])}% where {int(np.sum(class_correct[i]))} of {int(np.sum(class_total[i]))} were predicted correctly\")\n",
        "      else:\n",
        "          print('Test Accuracy of %5s: N/A (no training examples)' % (classes[i]))\n",
        "\n",
        "    print(f\"\\nOverall Test Accuracy : {float(100. * np.sum(class_correct) / np.sum(class_total))}% where {int(np.sum(class_correct))} of {int(np.sum(class_total))} were predicted correctly\")\n",
        "    # obtain one batch of test images\n",
        "    dataiter = iter(test_loader)\n",
        "    images, labels = dataiter.next()\n",
        "\n",
        "    # get sample outputs\n",
        "    if use_cuda and torch.cuda.is_available():\n",
        "      images,labels=images.cuda(),labels.cuda()\n",
        "    output = model(images)\n",
        "    \n",
        "    # convert output probabilities to predicted class\n",
        "    _, preds = torch.max(output, 1)\n",
        "    # prep images for display\n",
        "    images = images.cpu().numpy()\n",
        "\n",
        "    fig = plt.figure(figsize=(15, 20))\n",
        "    for idx in np.arange(batch_size):\n",
        "        ax = fig.add_subplot(5, batch_size/5, idx+1, xticks=[], yticks=[])\n",
        "        plt.imshow(np.squeeze(images[idx]))\n",
        "        ax.set_title(\"{}-{} for ({}-{})\".format(str(preds[idx].item()), fashion_class[preds[idx].item()],str(labels[idx].item()),fashion_class[labels[idx].item()]),\n",
        "                    color=(\"blue\" if preds[idx]==labels[idx] else \"red\"))"
      ],
      "execution_count": 18,
      "outputs": []
    },
    {
      "cell_type": "markdown",
      "metadata": {
        "id": "fyk8xHaQd7V1",
        "colab_type": "text"
      },
      "source": [
        "## Visualizing a Test batch with results"
      ]
    },
    {
      "cell_type": "markdown",
      "metadata": {
        "id": "F21QcYbieREO",
        "colab_type": "text"
      },
      "source": [
        "### FFNN"
      ]
    },
    {
      "cell_type": "code",
      "metadata": {
        "id": "vFDla2DLNyMC",
        "colab_type": "code",
        "colab": {
          "base_uri": "https://localhost:8080/",
          "height": 1000
        },
        "outputId": "83f7d991-0710-42bb-f716-33795d871bab"
      },
      "source": [
        "test(model_1)"
      ],
      "execution_count": 19,
      "outputs": [
        {
          "output_type": "stream",
          "text": [
            "For FNet :\n",
            "Test Loss: 0.46673072340362703\n",
            "Correctly predicted per class : [866.0, 971.0, 820.0, 932.0, 788.0, 962.0, 669.0, 974.0, 977.0, 950.0], Total correctly perdicted : 8909.0\n",
            "Total Predictions per class : [1000.0, 1000.0, 1000.0, 1000.0, 1000.0, 1000.0, 1000.0, 1000.0, 1000.0, 1000.0], Total predictions to be made : 10000.0\n",
            "\n",
            "Test Accuracy of class T-shirt/top : 86.6% where 866 of 1000 were predicted correctly\n",
            "Test Accuracy of class Trouser : 97.1% where 971 of 1000 were predicted correctly\n",
            "Test Accuracy of class Pullover : 82.0% where 820 of 1000 were predicted correctly\n",
            "Test Accuracy of class Dress : 93.2% where 932 of 1000 were predicted correctly\n",
            "Test Accuracy of class Coat : 78.8% where 788 of 1000 were predicted correctly\n",
            "Test Accuracy of class Sandal : 96.2% where 962 of 1000 were predicted correctly\n",
            "Test Accuracy of class Shirt : 66.9% where 669 of 1000 were predicted correctly\n",
            "Test Accuracy of class Sneaker : 97.4% where 974 of 1000 were predicted correctly\n",
            "Test Accuracy of class Bag : 97.7% where 977 of 1000 were predicted correctly\n",
            "Test Accuracy of class Ankle boot : 95.0% where 950 of 1000 were predicted correctly\n",
            "\n",
            "Overall Test Accuracy : 89.09% where 8909 of 10000 were predicted correctly\n"
          ],
          "name": "stdout"
        },
        {
          "output_type": "display_data",
          "data": {
            "image/png": "[encoded data removed]",
            "text/plain": [
              "<Figure size 1080x1440 with 20 Axes>"
            ]
          },
          "metadata": {
            "tags": []
          }
        }
      ]
    },
    {
      "cell_type": "markdown",
      "metadata": {
        "id": "HMsTd3qReS9S",
        "colab_type": "text"
      },
      "source": [
        "### CNN"
      ]
    },
    {
      "cell_type": "code",
      "metadata": {
        "id": "zYLaljoHNzbX",
        "colab_type": "code",
        "colab": {
          "base_uri": "https://localhost:8080/",
          "height": 1000
        },
        "outputId": "ddb59073-2cdc-4a57-8f78-be199c77dc8f"
      },
      "source": [
        "test(model_2)"
      ],
      "execution_count": 20,
      "outputs": [
        {
          "output_type": "stream",
          "text": [
            "For convNet :\n",
            "Test Loss: 0.42782994577231603\n",
            "Correctly predicted per class : [861.0, 984.0, 873.0, 902.0, 878.0, 982.0, 746.0, 985.0, 985.0, 965.0], Total correctly perdicted : 9161.0\n",
            "Total Predictions per class : [1000.0, 1000.0, 1000.0, 1000.0, 1000.0, 1000.0, 1000.0, 1000.0, 1000.0, 1000.0], Total predictions to be made : 10000.0\n",
            "\n",
            "Test Accuracy of class T-shirt/top : 86.1% where 861 of 1000 were predicted correctly\n",
            "Test Accuracy of class Trouser : 98.4% where 984 of 1000 were predicted correctly\n",
            "Test Accuracy of class Pullover : 87.3% where 873 of 1000 were predicted correctly\n",
            "Test Accuracy of class Dress : 90.2% where 902 of 1000 were predicted correctly\n",
            "Test Accuracy of class Coat : 87.8% where 878 of 1000 were predicted correctly\n",
            "Test Accuracy of class Sandal : 98.2% where 982 of 1000 were predicted correctly\n",
            "Test Accuracy of class Shirt : 74.6% where 746 of 1000 were predicted correctly\n",
            "Test Accuracy of class Sneaker : 98.5% where 985 of 1000 were predicted correctly\n",
            "Test Accuracy of class Bag : 98.5% where 985 of 1000 were predicted correctly\n",
            "Test Accuracy of class Ankle boot : 96.5% where 965 of 1000 were predicted correctly\n",
            "\n",
            "Overall Test Accuracy : 91.61% where 9161 of 10000 were predicted correctly\n"
          ],
          "name": "stdout"
        },
        {
          "output_type": "display_data",
          "data": {
            "image/png": "[encoded data removed]",
            "text/plain": [
              "<Figure size 1080x1440 with 20 Axes>"
            ]
          },
          "metadata": {
            "tags": []
          }
        }
      ]
    },
    {
      "cell_type": "code",
      "metadata": {
        "id": "WJSPl3xLFqtp",
        "colab_type": "code",
        "colab": {}
      },
      "source": [
        ""
      ],
      "execution_count": 20,
      "outputs": []
    }
  ]
}